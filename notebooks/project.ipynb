{
 "cells": [
  {
   "cell_type": "markdown",
   "id": "a316ef87",
   "metadata": {},
   "source": [
    "# Numerical analysis project\n",
    "### Valeria Insogna\n",
    "December 2022"
   ]
  },
  {
   "cell_type": "code",
   "execution_count": 1,
   "id": "3fe94688",
   "metadata": {
    "id": "3fe94688"
   },
   "outputs": [],
   "source": [
    "%matplotlib inline\n",
    "from numpy import *\n",
    "from matplotlib.pyplot import *\n",
    "import scipy.linalg"
   ]
  },
  {
   "cell_type": "markdown",
   "id": "ea033309",
   "metadata": {},
   "source": [
    "## 1. Exercise one"
   ]
  },
  {
   "cell_type": "markdown",
   "id": "8184faab",
   "metadata": {
    "id": "8184faab"
   },
   "source": [
    "Consider the following one-dimensional PDE:\n",
    "$$\n",
    "-u_{xx}(x) = f(x)\\quad\\mathrm{ in }\\ \\Omega = (0, \\pi)\n",
    "$$\n",
    "$$\n",
    "u(x) = 0, \\quad\\mathrm{ on }\\ \\partial\\Omega = \\{0, \\pi\\}\n",
    "$$\n",
    "\n",
    "Given the following $4^{th}$ order finite difference approximation of the second order derivative:\n",
    "\n",
    "$$u_{xx}(x_i) = \\frac{-u_{i-2}+16u_{i-1}-30u_i+16u_{i+1}-u_{i+2}}{12h^2}$$\n",
    "\n",
    "ImplemeM a function that given the domain iMerval, the forcing function, the number of discretization poiMs (<b> equispaced ?</b>), the boundary conditions, returns the matrix $A$ and the the right hand side $b$."
   ]
  },
  {
   "cell_type": "code",
   "execution_count": 2,
   "id": "1c562f13",
   "metadata": {
    "id": "1c562f13"
   },
   "outputs": [],
   "source": [
    "def finDif(omega,f,n,bc):\n",
    "    assert n >= 3 #at least the bounderies + 1 middle poiM\n",
    "    assert type(omega) is list\n",
    "    assert type(bc) is list\n",
    "    assert len(omega) == 2\n",
    "    assert len(bc) == 2\n",
    "    assert omega[0] < omega[-1]\n",
    "    \n",
    "    # Get size of each subiMerval  (𝑥𝑖,𝑥𝑖+1):\n",
    "    h = 1./(n-1) \n",
    "\n",
    "    # Extract domain boundaries:\n",
    "    start = omega[0]\n",
    "    end = omega[-1]\n",
    "    \n",
    "    # Evaluate forcing function on grid poiMs:\n",
    "    x = linspace(start,end,n)\n",
    "    b = f(x) #rhs\n",
    "    \n",
    "    # Using 4𝑡ℎ order FD of 2nd derivative:\n",
    "    aij2 = 1*ones((n-2,)) # Second Offdiagonal eMries\n",
    "    aij1 = -16*ones((n-1,)) # First Offdiagonal eMries\n",
    "    aii = +30*ones((n,)) # Diagonal eMries\n",
    "    A = (diag(aij2, -2) + diag(aij1, -1) + diag(aii, 0) + diag(aij1, +1) + diag(aij2, +2))\n",
    "    \n",
    "    # Change first row of the matrix A and rhs\n",
    "    A[0,:] = 0\n",
    "    A[:,0] = 0\n",
    "    A[0,0] = 1\n",
    "    b[0] = bc[0]\n",
    "\n",
    "    # Change last row of the matrix A and rhs\n",
    "    A[-1,:] = 0\n",
    "    A[:,-1] = 0\n",
    "    A[-1,-1] = 1\n",
    "    b[-1] = bc[-1]\n",
    "    \n",
    "    A /= 12*h**2\n",
    "    \n",
    "    return A, b"
   ]
  },
  {
   "cell_type": "markdown",
   "id": "c21bb21e",
   "metadata": {
    "id": "c21bb21e"
   },
   "source": [
    "Call the function using:"
   ]
  },
  {
   "cell_type": "code",
   "execution_count": 3,
   "id": "23af8831",
   "metadata": {
    "id": "23af8831"
   },
   "outputs": [
    {
     "name": "stdout",
     "output_type": "stream",
     "text": [
      "[[   816.75      0.        0.   ...      0.        0.        0.  ]\n",
      " [     0.    24502.5  -13068.   ...      0.        0.        0.  ]\n",
      " [     0.   -13068.    24502.5  ...      0.        0.        0.  ]\n",
      " ...\n",
      " [     0.        0.        0.   ...  24502.5  -13068.        0.  ]\n",
      " [     0.        0.        0.   ... -13068.    24502.5       0.  ]\n",
      " [     0.        0.        0.   ...      0.        0.      816.75]]\n"
     ]
    }
   ],
   "source": [
    "omega = [0,pi]\n",
    "f = lambda x : sin(x)\n",
    "n=100\n",
    "bc = [0,0]\n",
    "A, b = finDif(omega, f, n, bc)\n",
    "\n",
    "print(A)"
   ]
  },
  {
   "cell_type": "markdown",
   "id": "4f8a7c6f",
   "metadata": {
    "id": "4f8a7c6f"
   },
   "source": [
    "ImplemeM two functions that compute the LU and the Cholesky factorization of the system matrix $A$"
   ]
  },
  {
   "cell_type": "code",
   "execution_count": 4,
   "id": "47468a37",
   "metadata": {
    "id": "47468a37"
   },
   "outputs": [],
   "source": [
    "def LU(A):\n",
    "    A = A.copy()\n",
    "    N=len(A)\n",
    "    for k in range(N-1):\n",
    "        if (abs(A[k,k]) < 1e-15):\n",
    "            raise RuMimeError(\"Null pivot\")\n",
    "            \n",
    "        A[k+1:N,k] /= A[k,k]\n",
    "        for j in range(k+1,N):\n",
    "            A[k+1:N,j] -= A[k+1:N,k]*A[k,j]\n",
    "    \n",
    "    L=tril(A)\n",
    "    for i in range(N):\n",
    "        L[i,i]=1.0\n",
    "    U = triu(A)\n",
    "    return L, U\n",
    "\n",
    "L, U = LU(A)"
   ]
  },
  {
   "cell_type": "code",
   "execution_count": 5,
   "id": "193ebfed",
   "metadata": {
    "id": "193ebfed"
   },
   "outputs": [],
   "source": [
    "def cholesky(A):\n",
    "    \"\"\"Performs a Cholesky decomposition of A, which must \n",
    "    be a symmetric and positive definite matrix. The function\n",
    "    returns the lower variaM triangular matrix, L.\"\"\"\n",
    "    A = A.copy()\n",
    "    N = len(A)\n",
    "    for k in range(N-1):\n",
    "        A[k,k] = sqrt(A[k,k])\n",
    "        A[k+1:N,k] = A[k+1:N,k]/A[k,k]\n",
    "        \n",
    "        for j in range(k+1,N):\n",
    "            A[j:N,j] = A[j:N,j] - A[j:N,k]*A[j,k]\n",
    "        \n",
    "    A[-1,-1] = sqrt(A[-1,-1])\n",
    "    L=tril(A)\n",
    "    return L, L.transpose()\n",
    "\n",
    "HT, H = cholesky(A)#upper triangular"
   ]
  },
  {
   "cell_type": "markdown",
   "id": "41eb8436",
   "metadata": {
    "id": "41eb8436"
   },
   "source": [
    "ImplemeM forward and backward substitution functions to exploit the developed factorization methods to solve the derived linear system of equations."
   ]
  },
  {
   "cell_type": "code",
   "execution_count": 6,
   "id": "019cf0df",
   "metadata": {
    "id": "019cf0df"
   },
   "outputs": [],
   "source": [
    "def L_solve(L,rhs):\n",
    "    x = zeros_like(rhs)\n",
    "    N = len(L)\n",
    "        \n",
    "    x[0] = rhs[0]/L[0,0]\n",
    "    for i in range(1,N):\n",
    "        x[i] = (rhs[i] - dot(L[i, 0:i], x[0:i]))/L[i,i]\n",
    "    \n",
    "    return x"
   ]
  },
  {
   "cell_type": "code",
   "execution_count": 7,
   "id": "26ce17c4",
   "metadata": {
    "id": "26ce17c4"
   },
   "outputs": [],
   "source": [
    "def U_solve(U,rhs):\n",
    "    x = zeros_like(rhs)\n",
    "    N = len(U)\n",
    "        \n",
    "    x[-1] = rhs[-1]/U[-1,-1]\n",
    "    for i in reversed(range(N-1)):\n",
    "        x[i] = (rhs[i] - dot(U[i, i+1:N], x[i+1:N]))/U[i,i]\n",
    "    \n",
    "    return x"
   ]
  },
  {
   "cell_type": "markdown",
   "id": "08ac9ba1",
   "metadata": {
    "id": "08ac9ba1"
   },
   "source": [
    "Solve the derived linear system using the implemeMed functions and plot the computed solution:"
   ]
  },
  {
   "cell_type": "code",
   "execution_count": 8,
   "id": "7c1de4f3",
   "metadata": {
    "id": "7c1de4f3",
    "scrolled": true
   },
   "outputs": [
    {
     "data": {
      "image/png": "[encoded data removed]",
      "text/plain": [
       "<Figure size 432x288 with 1 Axes>"
      ]
     },
     "metadata": {
      "needs_background": "light"
     },
     "output_type": "display_data"
    }
   ],
   "source": [
    "# Using LU\n",
    "y = L_solve(L,b)\n",
    "u_LU = U_solve(U,y)\n",
    "\n",
    "# Using Cholesky\n",
    "w = L_solve(HT,b)\n",
    "u_Ch = U_solve(H,w)\n",
    "\n",
    "x = linspace(omega[0],omega[-1],n)\n",
    "_ = plot(x,u_LU,'r', label='LU')\n",
    "_ = plot(x,u_Ch,'b', label='Cholesky')\n",
    "_ = legend()"
   ]
  },
  {
   "cell_type": "markdown",
   "id": "95d7eea6",
   "metadata": {},
   "source": [
    "## 2. Exercise two"
   ]
  },
  {
   "cell_type": "markdown",
   "id": "62cdfe65",
   "metadata": {
    "id": "62cdfe65"
   },
   "source": [
    "Considering the new domain $\\Omega = (0,1)$ and the forcing term $f(x) = x(1-x)$ with B.C. $u(x) = 0$, on $\\partial \\Omega = {0,1}$ produce a plot and a table where you show the decay of the error w.r.t. the number of grid poiMs.\n",
    "(The analytical solution for the above problems is $u_{an} = \\frac{x^4}{12} - \\frac{x^3}{6} + \\frac{x}{12}$)"
   ]
  },
  {
   "cell_type": "markdown",
   "id": "ccfb6f00",
   "metadata": {},
   "source": [
    "Then with $ n \\in (3, 300)$:"
   ]
  },
  {
   "cell_type": "code",
   "execution_count": 9,
   "id": "91212afb",
   "metadata": {
    "id": "91212afb",
    "scrolled": true
   },
   "outputs": [
    {
     "data": {
      "image/png": "[encoded data removed]",
      "text/plain": [
       "<Figure size 1152x576 with 4 Axes>"
      ]
     },
     "metadata": {
      "needs_background": "light"
     },
     "output_type": "display_data"
    }
   ],
   "source": [
    "u_ex = lambda x : (x**4)/12. - (x**3)/6. + x/12.\n",
    "omega = [0,1]\n",
    "f = lambda x : x*(1.-x)\n",
    "bc = [0,0]\n",
    "\n",
    "N = range(3, 301)\n",
    "max_errors = zeros(len(N))\n",
    "cond_nums = zeros(len(N))\n",
    "residuals = zeros(len(N))\n",
    "rel_errors = zeros(len(N))\n",
    "residuals_b = zeros(len(N))\n",
    "\n",
    "for n in N:\n",
    "    A, b = finDif(omega, f, n, bc)\n",
    "    HT, H = cholesky(A)\n",
    "    y = L_solve(HT,b)\n",
    "    u = U_solve(H,y)\n",
    "    x = linspace(omega[0],omega[-1],n)\n",
    "    max_errors[n-3] = max(abs(u_ex(x)-u))\n",
    "    cond_nums[n-3] = linalg.cond(A)\n",
    "    residuals[n-3] = linalg.norm(b - dot(A,u_ex(x)),2)\n",
    "    rel_errors[n-3] = linalg.norm(u_ex(x)-u,2)/linalg.norm(u,2)# euclidean norm\n",
    "    residuals_b[n-3] = rel_errors[n-3]/linalg.norm(b,2)\n",
    "\n",
    "#_ = semilogy(N,errors,'r', label='Cholesky')\n",
    "#_ = legend()\n",
    "\n",
    "figure, axis = subplots(2, 2, figsize = (16,8))\n",
    "  \n",
    "# For Max Errors\n",
    "axis[0,0].semilogy(N,max_errors,'r', label='via Cholesky')\n",
    "axis[0,0].set_title(\"Max error\")\n",
    "\n",
    "# For Relative Errors\n",
    "axis[1,0].semilogy(N,rel_errors,'r', label='rel err')\n",
    "axis[1,0].semilogy(N,residuals,'g', label='r')\n",
    "axis[1,0].semilogy(N,residuals_b,'k', label='r/b')\n",
    "axis[1,0].set_title(\"Relative error\")\n",
    "\n",
    "# For Condition number\n",
    "axis[1,1].plot(N,cond_nums,'b', label='via SVG')\n",
    "axis[1,1].set_title(\"K(A)\")\n",
    "\n",
    "# # For Gully\n",
    "axis[0,1].semilogy(N,rel_errors,'r', label='rel err')\n",
    "axis[0,1].semilogy(N,residuals_b*cond_nums,'k', label='K(A)*r/b')\n",
    "axis[0,1].set_title(\"K(A)\")\n",
    "\n",
    "axis[0,0].legend(loc='best')\n",
    "axis[1,0].legend(loc='best')\n",
    "axis[1,1].legend(loc='best')\n",
    "axis[0,1].legend(loc='best')\n",
    "show()"
   ]
  },
  {
   "cell_type": "markdown",
   "id": "c06296f9",
   "metadata": {},
   "source": [
    "The relative error infact is bounded by K(A):\n",
    "$$\n",
    "\\frac{\\| x - x_{true} \\|}{\\| x \\|} \\leq K(A) \\frac{ \\| r \\|}{\\| b \\|}\n",
    "$$\n",
    "\n",
    "where the norm is the euclidean norm and r is the residual:\n",
    "$$\n",
    "r = b -Ax_{true}\n",
    "$$"
   ]
  },
  {
   "cell_type": "markdown",
   "id": "9213e7f4",
   "metadata": {},
   "source": [
    "## 3. Exercise three"
   ]
  },
  {
   "cell_type": "markdown",
   "id": "c8d5002f",
   "metadata": {
    "id": "c8d5002f"
   },
   "source": [
    "Exploit the derived LU factorizations to compute the condition number of the system's matrix $A$ using the original problem formulation."
   ]
  },
  {
   "cell_type": "markdown",
   "id": "2327a590",
   "metadata": {},
   "source": [
    "Recall:\n",
    "$$\n",
    "\\| A \\|_{p=2} = sup_{x \\ne 0} \\frac{ \\| Ax \\|_{p=2}}{\\| x \\|_{p=2}}\n",
    "$$\n",
    "\n",
    "But if A is sdp $\\implies$\n",
    "$$\n",
    "K(A) = \\frac{ \\lambda_{max}}{\\lambda_{min}}\n",
    "$$"
   ]
  },
  {
   "cell_type": "code",
   "execution_count": 10,
   "id": "c25fc1fe",
   "metadata": {
    "id": "c25fc1fe"
   },
   "outputs": [],
   "source": [
    "def PM(A,z0,tol=1e-5,nmax=500):\n",
    "    q = z0/linalg.norm(z0,2)\n",
    "    it = 0\n",
    "    err = tol + 1.\n",
    "    while it < nmax and err > tol:\n",
    "        z = dot(A,q)\n",
    "        l = dot(q.T,z)\n",
    "        err = linalg.norm(z-l*q,2)\n",
    "        q = z/linalg.norm(z,2)\n",
    "        \n",
    "        it += 1\n",
    "    print(\"error =\", err, \"iterations =\", it)\n",
    "    print(\"lambda_max =\", l)\n",
    "    return l,q\n",
    "\n",
    "def IPM(A,x0,mu,tol=1e-5,nmax=500):\n",
    "    M = A - mu*eye(len(A))\n",
    "    P,L,U = scipy.linalg.lu(M)\n",
    "    q = x0/linalg.norm(x0,2)\n",
    "    it = 0\n",
    "    err = tol + 1.\n",
    "    while it < nmax and err > tol:\n",
    "        y = scipy.linalg.solve_triangular(L, dot(P.T,q), lower=True)\n",
    "        x = scipy.linalg.solve_triangular(U,y)\n",
    "        z = dot(A,q)\n",
    "        l = dot(q.T,z)\n",
    "        err = linalg.norm(z-l*q,2)\n",
    "        q = x/linalg.norm(x,2)\n",
    "        it += 1\n",
    "    print(\"error =\", err, \"iterations =\", it)\n",
    "    print(\"lambda =\", l)\n",
    "    return l,q\n",
    "\n",
    "\n",
    "def condNumb(A, shift=0.):\n",
    "    #initilal guess\n",
    "    z0 = ones_like(x)\n",
    "    l_max,q_max = PM(A,z0)\n",
    "    l_min,q_min = IPM(A,z0,shift)\n",
    "    #L, U = LU(A)\n",
    "    condNu = l_max/l_min\n",
    "    return condNu"
   ]
  },
  {
   "cell_type": "code",
   "execution_count": 11,
   "id": "e23eb213",
   "metadata": {},
   "outputs": [
    {
     "name": "stdout",
     "output_type": "stream",
     "text": [
      "error = 55.65117039403209 iterations = 500\n",
      "lambda_max = 52189.470999034995\n",
      "error = 5.5182644893240295e-06 iterations = 8\n",
      "lambda = 9.900512929599799\n",
      "5271.390620884186\n"
     ]
    },
    {
     "data": {
      "text/plain": [
       "5278.068747923576"
      ]
     },
     "execution_count": 11,
     "metadata": {},
     "output_type": "execute_result"
    }
   ],
   "source": [
    "n=100\n",
    "h = 1./(n-1)\n",
    "omega = [0,pi]\n",
    "f = lambda x : sin(x)\n",
    "bc = [0,0]\n",
    "A, b = finDif(omega, f, n, bc)\n",
    "x=linspace(omega[0],omega[-1],n)\n",
    "\n",
    "print(condNumb(A))\n",
    "linalg.cond(A) #2-norm, computed directly using the SVD: 5278 -> bad condition number\n"
   ]
  },
  {
   "cell_type": "markdown",
   "id": "78deae88",
   "metadata": {},
   "source": [
    "## 4. Exercise four"
   ]
  },
  {
   "cell_type": "markdown",
   "id": "2728b49a",
   "metadata": {
    "id": "2728b49a"
   },
   "source": [
    "ImplemeM a preconditioned ConjugaM GradieM method to solve the original linear system of equations using an iterative method:"
   ]
  },
  {
   "cell_type": "code",
   "execution_count": 12,
   "id": "62b83aee",
   "metadata": {
    "id": "62b83aee"
   },
   "outputs": [],
   "source": [
    "def conjugate_gradieM(A, b, P, nmax=len(A), eps=1e-10):\n",
    "    x = zeros_like(b)\n",
    "    tol = eps+1\n",
    "    couM = 0\n",
    "    r = b - dot(A,x)\n",
    "    rho_old = 1.\n",
    "    p_old = zeros_like(b)\n",
    "    \n",
    "    while(couM<nmax and tol>eps):\n",
    "        couM += 1\n",
    "        z = linalg.solve(P,r)\n",
    "        rho = dot(r,z)\n",
    "        if(couM > 1):\n",
    "            beta = rho/rho_old\n",
    "            p = z + beta*p_old\n",
    "        else:\n",
    "            p = z\n",
    "        q = dot(A,p)\n",
    "        alpha = rho/dot(p,q)\n",
    "        x += p*alpha\n",
    "        r -= q*alpha\n",
    "        \n",
    "        p_old = p\n",
    "        rho_old = rho\n",
    "        \n",
    "        tol = linalg.norm(r,2)\n",
    "        \n",
    "    print(\"tolerance =\", tol, \"iterations =\", couM)\n",
    "    return x"
   ]
  },
  {
   "cell_type": "code",
   "execution_count": 14,
   "id": "b54bc263",
   "metadata": {},
   "outputs": [
    {
     "name": "stdout",
     "output_type": "stream",
     "text": [
      "tolerance = 6.1772350238470435e-12 iterations = 50\n",
      "conjugate gradieM distance respect direct method:  3.052776264642868e-14\n",
      "tolerance = 1.9137306222266202e-12 iterations = 1\n",
      "preconjugate gradieM distance respect direct method:  2.6640386582648427e-14\n"
     ]
    }
   ],
   "source": [
    "# Recall:\n",
    "f = sin(x)\n",
    "f[-1] = 0\n",
    "f[0] = 0\n",
    "\n",
    "# Solution by direct method\n",
    "u = linalg.solve(A, f) #used for comparison with iter methods\n",
    "\n",
    "# Solution by conjugate gradieM\n",
    "sol_gradieM = conjugate_gradieM(A, f, identity(len(A)))\n",
    "\n",
    "print(\"conjugate gradieM distance respect direct method: \",linalg.norm(sol_gradieM - u)/linalg.norm(u))\n",
    "sol_preconditioned_gradieM = conjugate_gradieM(A, f, A)\n",
    "print(\"preconjugate gradieM distance respect direct method: \", linalg.norm(sol_preconditioned_gradieM - u)/linalg.norm(u))"
   ]
  },
  {
   "cell_type": "markdown",
   "id": "306b9ff3",
   "metadata": {},
   "source": [
    "## 5. Exercise five"
   ]
  },
  {
   "cell_type": "markdown",
   "id": "8a4cfc02",
   "metadata": {
    "id": "8a4cfc02"
   },
   "source": [
    "Consider the following time dependeM variation of the PDE starting from the orginal problem formulation:\n",
    "$$\n",
    "u'(t)-u_{xx} = \\alpha(t)f(x)\n",
    "$$\n",
    "\n",
    "for $t\\in [0,T]$, with $\\alpha(t) = \\cos(t)$ and $T = 6\\pi$\n",
    "\n",
    "Use the same finite difference scheme to derive the semi-discrete formulation and solve it using a forward Euler's method.\n",
    "\n",
    "Plot the time dependeM solution solution at $x = \\pi/2$, $x=1$, \n",
    "$x=\\pi$\n"
   ]
  },
  {
   "cell_type": "markdown",
   "id": "61f5b812",
   "metadata": {},
   "source": [
    "The method will solve a problem of type:\n",
    "$$\\begin{cases}  \n",
    "u_{x x}+\\alpha(t) f(x)=\\frac{\\partial u}{\\partial t}(t, x) & (t,x) \\in (0,T] \\times (a,b)\\\\\n",
    "u(0,x)=g(x) & \\forall x \\in [a,b]\\\\\n",
    "u(t,a)=p(t)\\\\\n",
    "u(t,b)=q(t)\\\\\n",
    "\\end{cases}$$\n",
    "\n",
    "### Approximation used\n",
    "Let's start by discretizing time and substiting:\n",
    "$$\n",
    "u_{x x}+\\alpha(t) f(x)=\\frac{\\partial u}{\\partial t}(t, x) \\Rightarrow u\\left(t_{i+1},x\\right)=u\\left( t_{i},x\\right)+h_{\\mathrm{t}} u_{x x}\\left( t_{i},x\\right)+h_{\\mathrm{t}} \\alpha\\left(t_{i}\\right) f(x) \\\\\n",
    "$$\n",
    "Then let's discretize space:\n",
    "$$u_{xx}(t,x_{j})=\\frac{-u\\left(t, x_{j-2}\\right)+16 u\\left(t, x_{j-1}\\right)-30 u\\left(t, x_{j}\\right)+16 u\\left(t, x_{j+1}\\right)-u\\left(t, x_{j+2}\\right)}{12 h_{x}^{2}}$$\n",
    "\n",
    "\n",
    "Hence:\n",
    "\n",
    "\\begin{aligned}\n",
    "u\\left(t_{i+1}, x_{j}\\right) = h_{\\mathrm{t}}\\left(\\frac{-u\\left(t_{i}, x_{j-2}\\right)+16 u\\left(t_{i},x_{j-1}\\right)-\\left(30-12 h_{x}^{2} / h_{t}\\right) u\\left(t_{i},x_{j}\\right)+16 u\\left(t_{i}, x_{j+1}\\right)-u\\left(t_{i},x_{j+2}\\right)}{12 h_{x}^{2}}+\\alpha\\left(t_{i}\\right) f\\left(x_{j}\\right)\\right)\n",
    "\\end{aligned}\n",
    "\n",
    "However this discrete method does not work for $x=1$ and $x=N_{x}-1$. For this points we will use another approximation of x:\n",
    "$$u_{xx}(t,x_{j})=\\frac{u(t,x_{j-1})-2u(t,x_{j})+u(t,x_{j+1})}{h_{x}^{2}}$$ \n",
    "\n",
    "Hence substiting:\n",
    "$$ \n",
    "u\\left(t_{i+1}, x_{j}\\right) = h_{\\mathrm{t}}\\left(\\frac{ u\\left(t_{i},x_{j-1}\\right)-\\left(2-h_{x}^{2} / h_{t}\\right) u\\left(t_{i},x_{j}\\right)+ u\\left(t_{i}, x_{j+1}\\right)}{ h_{x}^{2}}+\\alpha\\left(t_{i}\\right) f\\left(x_{j}\\right)\\right)\n",
    "$$\n",
    "\n",
    "Vectorizing on the variable $x$ similarly to the first exercise we arrive at $\\exists A$ s.t.\n",
    "$$u(:,t_{i+1})=Au(:,t_{i})+h_{t}f(:)\\alpha(t_{i})$$\n"
   ]
  },
  {
   "cell_type": "code",
   "execution_count": 15,
   "id": "3ffe0689",
   "metadata": {
    "id": "3ffe0689"
   },
   "outputs": [],
   "source": [
    "def FinDif_time(f,alpha,M,N,a,b,T,g,q,p):\n",
    "    \n",
    "    x=linspace(a,b,N)\n",
    "    t=linspace(0,T,M)\n",
    "\n",
    "    ht=T/M\n",
    "    hx=(b-a)/N\n",
    "    \n",
    "    A=zeros((N,N),dtype=float)\n",
    "    for i in range(2,N-2):\n",
    "        A[i, i-1] = A[i, i+1] = 16/12\n",
    "        A[i, i-2] = A[i, i+2] = -1/12\n",
    "        A[i,i] = (-30+12*hx**2/ht)/12\n",
    "\n",
    "    A[1,0]=A[1,2]=A[N-2,N-3]=A[N-2,N-1]=1\n",
    "    A[1,1]=A[N-2,N-2]=(-2+hx**2/ht)\n",
    "    A[0,0] = A[-1,-1]=1\n",
    "    \n",
    "    A=ht*A/hx**2\n",
    "\n",
    "    fx=f(x)\n",
    "    alpha_t=alpha(t)\n",
    "    \n",
    "    U=zeros((M,N),dtype=float)\n",
    "    U[0,:]=g(x)\n",
    "\n",
    "    U[:,0]=p(t)\n",
    "    U[:,N-1]=q(t)\n",
    "\n",
    "    for i in range(1,M):\n",
    "        U[i,:]=dot(A,U[i-1,:])+ht*fx*alpha_t[i]\n",
    "      \n",
    "    return U\n",
    "\n"
   ]
  },
  {
   "cell_type": "code",
   "execution_count": 22,
   "id": "0046ebbe",
   "metadata": {},
   "outputs": [
    {
     "data": {
      "text/plain": [
       "<matplotlib.legend.Legend at 0x7f8ad7740dc0>"
      ]
     },
     "execution_count": 22,
     "metadata": {},
     "output_type": "execute_result"
    },
    {
     "data": {
      "image/png": "[encoded data removed]",
      "text/plain": [
       "<Figure size 432x288 with 1 Axes>"
      ]
     },
     "metadata": {
      "needs_background": "light"
     },
     "output_type": "display_data"
    }
   ],
   "source": [
    "a=0\n",
    "b=pi\n",
    "T=6*pi\n",
    "q = lambda x: 0\n",
    "p = lambda x:0\n",
    "f = lambda x : sin(x)\n",
    "alpha = lambda x: cos(x)\n",
    "g = lambda x: 0\n",
    "N=50\n",
    "M=100000\n",
    "sol=FinDif_time(f,alpha,M,N,a,b,T,g,p,q)\n",
    "\n",
    "# 3 solutions at x=pi/2, pi, 1\n",
    "x1=argmin(abs(linspace(a,b,N)-pi))*(b-a)/N\n",
    "x2=argmin(abs(linspace(a,b,N)-pi/2))*(b-a)/N\n",
    "x3=argmin(abs(linspace(a,b,N)-1))*(b-a)/N\n",
    "\n",
    "plot(linspace(0,T,M),sol[:,argmin(abs(linspace(a,b,N)-pi/2))], '-b', label='x={}'.format(x1))\n",
    "plot(linspace(0,T,M),sol[:,argmin(abs(linspace(a,b,N)-pi))], '-g',label='x={}'.format(x2))\n",
    "plot(linspace(0,T,M),sol[:,argmin(abs(linspace(a,b,N)-1))], '-r',label='x={}'.format(x3))\n",
    "matplotlib.pyplot.legend()"
   ]
  },
  {
   "cell_type": "markdown",
   "id": "b0b5fd53",
   "metadata": {},
   "source": [
    "## 6. Exercise six"
   ]
  },
  {
   "cell_type": "markdown",
   "id": "36936121",
   "metadata": {
    "id": "36936121"
   },
   "source": [
    "Given the original $Au = b$ system, implemeM an algorithm to compute the eigenvalues and eigenvectors of the matrix $A$. Exploit the computed LU factorization"
   ]
  },
  {
   "cell_type": "markdown",
   "id": "d4a54ad7",
   "metadata": {},
   "source": [
    "Oss. For a symmetric diagonalizable matrix $A$, it holds:\n",
    "$$\n",
    "A=\\sum_{i=1}^{n}\\lambda_{i}v_{i}v_{i}^{T}\n",
    "$$\n",
    "where $v_{i}$ and $\\lambda_{i}$ are the i-th eigenvector and eigenvalue."
   ]
  },
  {
   "cell_type": "code",
   "execution_count": 17,
   "id": "02436193",
   "metadata": {},
   "outputs": [],
   "source": [
    "def eigendecomposition(A,nmax=500,tol=1e-08):\n",
    "    n=len(A)\n",
    "    d=zeros(n)\n",
    "    V=zeros([n,n])\n",
    "    z0=ones(n)\n",
    "    for i in range(n):\n",
    "        d[i],V[:,i]=PM(A,z0,tol,nmax)\n",
    "        A=A-d[i]*outer(V[:,i],V[:,i])\n",
    "    return d,V"
   ]
  },
  {
   "cell_type": "code",
   "execution_count": 18,
   "id": "a299b6c2",
   "metadata": {},
   "outputs": [
    {
     "name": "stdout",
     "output_type": "stream",
     "text": [
      "error = 9.995592640360748e-09 iterations = 6472\n",
      "lambda_max = 52206.377870602286\n",
      "error = 9.972003028110406e-09 iterations = 11710\n",
      "lambda_max = 52255.58788210094\n",
      "error = 9.97415575296612e-09 iterations = 3916\n",
      "lambda_max = 52009.932429776716\n",
      "error = 9.922894840174047e-09 iterations = 6091\n",
      "lambda_max = 52124.448926095334\n",
      "error = 9.972745170820404e-09 iterations = 2830\n",
      "lambda_max = 51683.922306154345\n",
      "error = 9.990938825535152e-09 iterations = 4044\n",
      "lambda_max = 51863.011854552344\n",
      "error = 9.944808527528158e-09 iterations = 2211\n",
      "lambda_max = 51230.43122664053\n",
      "error = 9.869514842357424e-09 iterations = 3132\n",
      "lambda_max = 51472.94993583529\n",
      "error = 9.981386370936463e-09 iterations = 9441\n",
      "lambda_max = 50956.75215568806\n",
      "error = 9.893955887892989e-09 iterations = 1812\n",
      "lambda_max = 50652.34723530554\n",
      "error = 9.949618208683398e-09 iterations = 8211\n",
      "lambda_max = 50317.6984362823\n",
      "error = 9.984097656593888e-09 iterations = 1537\n",
      "lambda_max = 49953.3339968901\n",
      "error = 9.935639457748709e-09 iterations = 6850\n",
      "lambda_max = 49559.82712170921\n",
      "error = 9.844759203754033e-09 iterations = 1335\n",
      "lambda_max = 49137.79457466239\n",
      "error = 9.912431353805139e-09 iterations = 5869\n",
      "lambda_max = 48687.895171009135\n",
      "error = 9.984253784549093e-09 iterations = 1178\n",
      "lambda_max = 48210.82817338482\n",
      "error = 9.946757252088033e-09 iterations = 5505\n",
      "lambda_max = 47707.3315972803\n",
      "error = 9.89327530949558e-09 iterations = 1054\n",
      "lambda_max = 47178.18043165025\n",
      "error = 9.939055651763772e-09 iterations = 4725\n",
      "lambda_max = 46624.18478060709\n",
      "error = 9.739488106553819e-09 iterations = 953\n",
      "lambda_max = 46046.18793240507\n",
      "error = 9.896234279654346e-09 iterations = 4290\n",
      "lambda_max = 45445.06436214213\n",
      "error = 9.82232695846047e-09 iterations = 868\n",
      "lambda_max = 44821.71767480598\n",
      "error = 9.895845427612574e-09 iterations = 3868\n",
      "lambda_max = 44177.0784954641\n",
      "error = 9.880158325337714e-09 iterations = 796\n",
      "lambda_max = 43512.10231354563\n",
      "error = 9.969322633616893e-09 iterations = 3524\n",
      "lambda_max = 42827.76728828399\n",
      "error = 9.960318606360543e-09 iterations = 734\n",
      "lambda_max = 42125.0720224838\n",
      "error = 9.889785494898482e-09 iterations = 3268\n",
      "lambda_max = 41405.03331184288\n",
      "error = 9.65967485640737e-09 iterations = 681\n",
      "lambda_max = 40668.68387710051\n",
      "error = 9.974227762927995e-09 iterations = 3034\n",
      "lambda_max = 39917.070086295396\n",
      "error = 9.87830296955389e-09 iterations = 633\n",
      "lambda_max = 39151.24967440216\n",
      "error = 9.995300128057473e-09 iterations = 2897\n",
      "lambda_max = 38372.28946757353\n",
      "error = 9.80317185587503e-09 iterations = 591\n",
      "lambda_max = 37581.26311914525\n",
      "error = 9.841969823889259e-09 iterations = 2651\n",
      "lambda_max = 36779.248864465924\n",
      "error = 9.870454716246108e-09 iterations = 553\n",
      "lambda_max = 35967.32730149133\n",
      "error = 9.767806138249832e-09 iterations = 2513\n",
      "lambda_max = 35146.57920393474\n",
      "error = 9.758240505931379e-09 iterations = 519\n",
      "lambda_max = 34318.08337359183\n",
      "error = 9.762950232144556e-09 iterations = 2359\n",
      "lambda_max = 33482.91453826138\n",
      "error = 9.657403731849304e-09 iterations = 488\n",
      "lambda_max = 32642.1413014622\n",
      "error = 9.979485058884455e-09 iterations = 2150\n",
      "lambda_max = 31796.824149902466\n",
      "error = 9.865714354322205e-09 iterations = 459\n",
      "lambda_max = 30948.013524393362\n",
      "error = 9.880703515245322e-09 iterations = 2075\n",
      "lambda_max = 30096.747959612723\n",
      "error = 9.637616980884311e-09 iterations = 433\n",
      "lambda_max = 29244.05229781962\n",
      "error = 9.893027742331863e-09 iterations = 1921\n",
      "lambda_max = 28390.93598129766\n",
      "error = 9.93769657419009e-09 iterations = 408\n",
      "lambda_max = 27538.3914279655\n",
      "error = 9.971415297449396e-09 iterations = 1806\n",
      "lambda_max = 26687.3924942374\n",
      "error = 9.379222910853737e-09 iterations = 386\n",
      "lambda_max = 25838.893028848164\n",
      "error = 9.878117797228628e-09 iterations = 1737\n",
      "lambda_max = 24993.82552097538\n",
      "error = 9.724368056797873e-09 iterations = 364\n",
      "lambda_max = 24153.099845599456\n",
      "error = 9.926123558255952e-09 iterations = 1633\n",
      "lambda_max = 23317.602108640807\n",
      "error = 9.550321069753027e-09 iterations = 344\n",
      "lambda_max = 22488.1935940044\n",
      "error = 9.7896504650825e-09 iterations = 1527\n",
      "lambda_max = 21665.709814246435\n",
      "error = 9.409102318969256e-09 iterations = 325\n",
      "lambda_max = 20850.959666159055\n",
      "error = 9.636566433432281e-09 iterations = 1543\n",
      "lambda_max = 20044.724692146483\n",
      "error = 9.194940676958553e-09 iterations = 307\n",
      "lambda_max = 19247.75844784302\n",
      "error = 9.640219716709592e-09 iterations = 1384\n",
      "lambda_max = 18460.78597600103\n",
      "error = 9.634550464487443e-09 iterations = 289\n",
      "lambda_max = 17684.503386257013\n",
      "error = 9.75934763800663e-09 iterations = 1297\n",
      "lambda_max = 16919.577539967948\n",
      "error = 9.867084131159932e-09 iterations = 272\n",
      "lambda_max = 16166.645838899742\n",
      "error = 9.735300046992343e-09 iterations = 1254\n",
      "lambda_max = 15426.316116146962\n",
      "error = 9.741398364389807e-09 iterations = 256\n",
      "lambda_max = 14699.166627268405\n",
      "error = 9.75019937286523e-09 iterations = 1136\n",
      "lambda_max = 13985.746139240122\n",
      "error = 9.1248874956336e-09 iterations = 241\n",
      "lambda_max = 13286.57411445514\n",
      "error = 9.753906413528803e-09 iterations = 1092\n",
      "lambda_max = 12602.140986641316\n",
      "error = 8.927403645575887e-09 iterations = 226\n",
      "lambda_max = 11932.908525224764\n",
      "error = 9.512706866344357e-09 iterations = 1069\n",
      "lambda_max = 11279.310284339186\n",
      "error = 9.13663203187681e-09 iterations = 211\n",
      "lambda_max = 10641.752132371055\n",
      "error = 9.677869124276699e-09 iterations = 928\n",
      "lambda_max = 10020.612857639235\n",
      "error = 9.806102049723118e-09 iterations = 196\n",
      "lambda_max = 9416.24484553578\n",
      "error = 9.92628312289856e-09 iterations = 871\n",
      "lambda_max = 8828.974822203489\n",
      "error = 9.621243666265504e-09 iterations = 182\n",
      "lambda_max = 8259.10465959644\n",
      "error = 9.896431980134105e-09 iterations = 807\n",
      "lambda_max = 7706.912236562946\n",
      "error = 9.76906872391076e-09 iterations = 168\n",
      "lambda_max = 7172.65235040697\n",
      "error = 9.505905981734179e-09 iterations = 765\n",
      "lambda_max = 6656.557673224595\n",
      "error = 8.724140196268774e-09 iterations = 155\n",
      "lambda_max = 6158.839747177725\n",
      "error = 9.27696722580817e-09 iterations = 678\n",
      "lambda_max = 5679.690012757562\n",
      "error = 9.439423771975743e-09 iterations = 141\n",
      "lambda_max = 5219.280864006785\n",
      "error = 9.4601020214292e-09 iterations = 624\n",
      "lambda_max = 4777.766724611536\n",
      "error = 8.76326644592995e-09 iterations = 128\n",
      "lambda_max = 4355.2851387426745\n",
      "error = 9.197775234722916e-09 iterations = 564\n",
      "lambda_max = 3951.9578705205527\n",
      "error = 8.235180269641812e-09 iterations = 115\n",
      "lambda_max = 3567.8920059985676\n",
      "error = 9.281355396472993e-09 iterations = 498\n",
      "lambda_max = 3203.1810516081614\n",
      "error = 7.839291267338377e-09 iterations = 102\n",
      "lambda_max = 2857.906023081332\n",
      "error = 9.092721192633692e-09 iterations = 456\n",
      "lambda_max = 2532.136518965985\n",
      "error = 7.577249323770002e-09 iterations = 89\n",
      "lambda_max = 2225.93177297412\n",
      "error = 8.788392028131456e-09 iterations = 397\n",
      "lambda_max = 1939.3416795524536\n",
      "error = 7.477766154802584e-09 iterations = 76\n",
      "lambda_max = 1672.4077872390312\n",
      "error = 9.001047010105857e-09 iterations = 325\n",
      "lambda_max = 1425.1642545669315\n",
      "error = 7.267529756848761e-09 iterations = 67\n",
      "lambda_max = 1197.638763496645\n",
      "error = 9.993267194893609e-09 iterations = 304\n",
      "lambda_max = 989.8533856010305\n",
      "error = 9.839436081757133e-09 iterations = 1128\n",
      "lambda_max = 816.75\n",
      "error = 8.239255937181132e-09 iterations = 50\n",
      "lambda_max = 801.8253964900846\n",
      "error = 6.6153453221796306e-09 iterations = 110\n",
      "lambda_max = 816.75\n",
      "error = 9.439427212675815e-09 iterations = 211\n",
      "lambda_max = 633.5680342459123\n",
      "error = 5.1237662812651e-09 iterations = 38\n",
      "lambda_max = 485.09119794008467\n",
      "error = 7.801300036818957e-09 iterations = 151\n",
      "lambda_max = 356.40208262478893\n",
      "error = 5.934445267147739e-09 iterations = 25\n",
      "lambda_max = 247.5057475243151\n",
      "error = 7.730376228824324e-09 iterations = 12\n",
      "lambda_max = 89.10389425023578\n",
      "error = 4.250155099786014e-09 iterations = 19\n",
      "lambda_max = 158.40561450321317\n",
      "error = 3.35146728252809e-12 iterations = 2\n",
      "lambda_max = 9.900512929598953\n",
      "error = 2.999825159020344e-12 iterations = 1\n",
      "lambda_max = -2.7542394818842996e-16\n",
      "Relative error:  0.00010316592267726289\n"
     ]
    }
   ],
   "source": [
    "eigenvalues=sort(linalg.eigvals(A))\n",
    "eig,V=eigendecomposition(A,100000)\n",
    "eig=sort(eig)\n",
    "print('Relative error: ', linalg.norm(eigenvalues-eig)/linalg.norm(eigenvalues))"
   ]
  },
  {
   "cell_type": "markdown",
   "id": "4bdd3019",
   "metadata": {},
   "source": [
    "## 7. Exercise seven"
   ]
  },
  {
   "cell_type": "markdown",
   "id": "85d5f64e",
   "metadata": {
    "id": "85d5f64e"
   },
   "source": [
    "Compute the inverse of the matrix A exploiting the derived LU factorization"
   ]
  },
  {
   "cell_type": "code",
   "execution_count": 19,
   "id": "64113ee3",
   "metadata": {},
   "outputs": [
    {
     "name": "stdout",
     "output_type": "stream",
     "text": [
      "relative error:  1.7014257446248395e-14\n"
     ]
    }
   ],
   "source": [
    "def inverse(A):\n",
    "    n=shape(A)[0]\n",
    "    B=A.copy()\n",
    "    I=eye(n)\n",
    "    for i in range(n):\n",
    "        B[:,i]=U_solve(U,L_solve(L,I[:,i]))\n",
    "    return B\n",
    "\n",
    "print('relative error: ', linalg.norm(linalg.inv(A)-inverse(A))/linalg.norm(linalg.inv(A)))"
   ]
  },
  {
   "cell_type": "markdown",
   "id": "974a7d3d",
   "metadata": {},
   "source": [
    "## 8. Exercise eight"
   ]
  },
  {
   "cell_type": "markdown",
   "id": "cb22566e",
   "metadata": {
    "id": "cb22566e"
   },
   "source": [
    "Consider the following Cauchy problem\n",
    "$$\n",
    "\\begin{cases}\n",
    "y'= -ty^2 \\quad 0\\le t \\le 2\\\\\n",
    "y(0) = 1\n",
    "\\end{cases}\n",
    "$$\n",
    "ImplemeM a Backward Euler's method in a suitable function and solve the resulting non-linear equation using a Newton's method."
   ]
  },
  {
   "cell_type": "code",
   "execution_count": 20,
   "id": "3184e358",
   "metadata": {
    "id": "3184e358"
   },
   "outputs": [],
   "source": [
    "f=lambda t,y: -t*(y**2)\n",
    "df=lambda t,y: -t*2*y\n",
    "\n",
    "# Newton method\n",
    "def Newton(f,f1,x0,epsilon=1e-10,max_iter=500):\n",
    "    x = x0\n",
    "    for n in range(0,max_iter):\n",
    "        if abs(f(x)) < epsilon:\n",
    "            return x\n",
    "        if f1(x) == 0:\n",
    "            return None\n",
    "        x = x - f(x)/f1(x)\n",
    "    return x\n",
    "\n",
    "# Backward euler\n",
    "def backward_euler(y0,g,g1,omega,n):\n",
    "    tspace=linspace(omega[0],omega[1],n)\n",
    "    h=(omega[1]-omega[0])/n\n",
    "    f=lambda t,z,x: z-h*g(t,z)-x\n",
    "    df=lambda t,z,x: 1-h*g1(t,z)\n",
    "    y=zeros(n)\n",
    "    y[0]=y0\n",
    "    for i in range(1,n):\n",
    "        ft=lambda z: f(tspace[i],z,y[i-1])\n",
    "        dft=lambda z: df(tspace[i],z,y[i-1])\n",
    "        y[i]=Newton(ft,dft,y[i-1])\n",
    "    return y"
   ]
  },
  {
   "cell_type": "code",
   "execution_count": 21,
   "id": "42bb5561",
   "metadata": {},
   "outputs": [
    {
     "data": {
      "text/plain": [
       "[<matplotlib.lines.Line2D at 0x7f8ad60eeca0>]"
      ]
     },
     "execution_count": 21,
     "metadata": {},
     "output_type": "execute_result"
    },
    {
     "data": {
      "image/png": "[encoded data removed]",
      "text/plain": [
       "<Figure size 432x288 with 1 Axes>"
      ]
     },
     "metadata": {
      "needs_background": "light"
     },
     "output_type": "display_data"
    }
   ],
   "source": [
    "omega = [0,2]\n",
    "n=100\n",
    "y=backward_euler(1,f,df,omega,n)\n",
    "\n",
    "plot(linspace(omega[0],omega[1],n),y)\n",
    "plot(linspace(omega[0],omega[1],n),2/(linspace(omega[0],omega[1],n)**2+2))"
   ]
  }
 ],
 "metadata": {
  "colab": {
   "name": "FinalProject-2021-2022.ipynb",
   "provenance": []
  },
  "kernelspec": {
   "display_name": "Python 3.8.8 ('base')",
   "language": "python",
   "name": "python3"
  },
  "language_info": {
   "codemirror_mode": {
    "name": "ipython",
    "version": 3
   },
   "file_extension": ".py",
   "mimetype": "text/x-python",
   "name": "python",
   "nbconvert_exporter": "python",
   "pygments_lexer": "ipython3",
   "version": "3.8.8"
  },
  "vscode": {
   "interpreter": {
    "hash": "9cda0c324310104f05d8df7cc4d2a731da6a442630e1c96fb26d87993a9b905b"
   }
  }
 },
 "nbformat": 4,
 "nbformat_minor": 5
}
