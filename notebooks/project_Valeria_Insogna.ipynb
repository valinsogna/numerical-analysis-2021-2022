{
 "cells": [
  {
   "cell_type": "code",
   "execution_count": 1,
   "id": "3fe94688",
   "metadata": {
    "id": "3fe94688"
   },
   "outputs": [],
   "source": [
    "%matplotlib inline\n",
    "from numpy import *\n",
    "import sklearn.datasets\n",
    "from matplotlib.pyplot import *\n",
    "import copy\n",
    "import scipy\n",
    "from scipy.sparse.linalg import *"
   ]
  },
  {
   "cell_type": "markdown",
   "id": "8184faab",
   "metadata": {
    "id": "8184faab"
   },
   "source": [
    "Consider the following one-dimensional PDE:\n",
    "$$\n",
    "-u_{xx}(x) = f(x)\\quad\\mathrm{ in }\\ \\Omega = (0, \\pi)\n",
    "$$\n",
    "$$\n",
    "u(x) = 0, \\quad\\mathrm{ on }\\ \\partial\\Omega = \\{0, \\pi\\}\n",
    "$$\n",
    "\n",
    "Given the following $4^{th}$ order finite difference approximation of the second order derivative:\n",
    "\n",
    "$$u_{xx}(x_i) = \\frac{-u_{i-2}+16u_{i-1}-30u_i+16u_{i+1}-u_{i+2}}{12h^2}$$\n",
    "\n",
    "Implement a function that given the domain interval, the forcing function, the number of discretization points, the boundary conditions, returns the matrix $A$ and the the right hand side $b$."
   ]
  },
  {
   "cell_type": "code",
   "execution_count": 2,
   "id": "1c562f13",
   "metadata": {
    "id": "1c562f13"
   },
   "outputs": [],
   "source": [
    "def finDif(omega,f,n,bc):\n",
    "    dpoints=linspace(omega[0],omega[1],n)\n",
    "    b=zeros(n)\n",
    "    for i in range(1,n-1):\n",
    "        b[i]=f(dpoints[i])\n",
    "    b[0]=bc[0]\n",
    "    b[n-1]=bc[1]\n",
    "    h=(omega[1]-omega[0])/n\n",
    "    A = zeros((n,n))\n",
    "    for i in range(2,n-2):\n",
    "        A[i, i-1] = A[i, i+1] = -16/(12*h**2)\n",
    "        A[i, i-2] = A[i, i+2] = +1/(12*h**2)\n",
    "        A[i,i] = +30/(12*h**2)\n",
    "    # per il secondo e penultimo valore uno schema di quarto ordine non è applicabile\n",
    "    A[1,0]=A[1,2]=A[n-2,n-3]=A[n-2,n-1]=-1/h**2\n",
    "    A[1,1]=A[n-2,n-2]=2/h**2\n",
    "    A[0,0] = A[-1,-1]=1\n",
    "    return A, b"
   ]
  },
  {
   "cell_type": "markdown",
   "id": "c21bb21e",
   "metadata": {
    "id": "c21bb21e"
   },
   "source": [
    "Call the function using:"
   ]
  },
  {
   "cell_type": "code",
   "execution_count": 3,
   "id": "23af8831",
   "metadata": {
    "id": "23af8831"
   },
   "outputs": [],
   "source": [
    "omega = [0,pi]\n",
    "f = lambda x : sin(x)\n",
    "n=100\n",
    "bc = [0,0]\n",
    "A, b = finDif(omega, f, n, bc)\n"
   ]
  },
  {
   "cell_type": "markdown",
   "id": "4f8a7c6f",
   "metadata": {
    "id": "4f8a7c6f"
   },
   "source": [
    "Implement two functions that compute the LU and the Cholesky factorization of the system matrix $A$"
   ]
  },
  {
   "cell_type": "code",
   "execution_count": 4,
   "id": "47468a37",
   "metadata": {
    "id": "47468a37"
   },
   "outputs": [],
   "source": [
    "def LU(A):\n",
    "    U=copy.deepcopy(A)\n",
    "    n=len(A)\n",
    "    L=eye(n)\n",
    "    for j in range(n-1):\n",
    "        for i in range(j+1,n):\n",
    "            L[i,j]=U[i,j]/U[j,j]\n",
    "            U[i,j:]-=L[i,j]*U[j,j:]\n",
    "    return L, U\n"
   ]
  },
  {
   "cell_type": "code",
   "execution_count": 5,
   "id": "193ebfed",
   "metadata": {
    "id": "193ebfed"
   },
   "outputs": [],
   "source": [
    "def cholesky(A):\n",
    "    n=len(A)\n",
    "    L=zeros([n,n])\n",
    "    for j in range(n):\n",
    "        L[j,j]=(A[j,j]-sum(fromiter((L[j,k]**2 for k in range(j)),float)))**0.5\n",
    "        for i in range(j+1,n):\n",
    "            L[i,j]=(A[i,j]-sum(fromiter((L[i,k]*L[j,k] for k in range(j)),float)))/L[j,j]\n",
    "    return transpose(L)\n"
   ]
  },
  {
   "cell_type": "markdown",
   "id": "41eb8436",
   "metadata": {
    "id": "41eb8436"
   },
   "source": [
    "Implement forward and backward substitution functions to exploit the developed factorization methods to solve the derived linear system of equations."
   ]
  },
  {
   "cell_type": "code",
   "execution_count": 6,
   "id": "019cf0df",
   "metadata": {
    "id": "019cf0df"
   },
   "outputs": [],
   "source": [
    "def L_solve(L,rhs):\n",
    "    n=len(L)\n",
    "    x=zeros(n)\n",
    "    for i in range(n):\n",
    "        x[i] = rhs[i]\n",
    "        for j in range(i):\n",
    "            x[i] -= x[j]*L[i,j]\n",
    "        x[i] = x[i]/L[i,i]\n",
    "    return x"
   ]
  },
  {
   "cell_type": "code",
   "execution_count": 7,
   "id": "26ce17c4",
   "metadata": {
    "id": "26ce17c4"
   },
   "outputs": [],
   "source": [
    "def U_solve(U,rhs):\n",
    "    n=len(U)\n",
    "    x=zeros(n)\n",
    "    for i in range(n-1, -1, -1):\n",
    "        x[i] = rhs[i]\n",
    "        for j in range(n-1, i, -1):\n",
    "            x[i] -= x[j]*U[i,j]\n",
    "        x[i] = x[i]/U[i,i]\n",
    "    return x"
   ]
  },
  {
   "cell_type": "markdown",
   "id": "08ac9ba1",
   "metadata": {
    "id": "08ac9ba1"
   },
   "source": [
    "Solve the derived linear system using the implemented functions and plot the computed solution:"
   ]
  },
  {
   "cell_type": "code",
   "execution_count": 8,
   "id": "7c1de4f3",
   "metadata": {
    "id": "7c1de4f3"
   },
   "outputs": [
    {
     "data": {
      "text/plain": [
       "[<matplotlib.lines.Line2D at 0xffff3fdf9e20>]"
      ]
     },
     "execution_count": 8,
     "metadata": {},
     "output_type": "execute_result"
    },
    {
     "data": {
      "image/png": "[encoded data removed]",
      "text/plain": [
       "<Figure size 432x288 with 1 Axes>"
      ]
     },
     "metadata": {
      "needs_background": "light"
     },
     "output_type": "display_data"
    }
   ],
   "source": [
    "def LU_solve(A,b):\n",
    "        L,U=LU(A)\n",
    "        y=U_solve(U,L_solve(L,b))\n",
    "        return y\n",
    "\n",
    "xspace=linspace(0,pi,n)\n",
    "plot(xspace,LU_solve(A,b))\n",
    "\n"
   ]
  },
  {
   "cell_type": "markdown",
   "id": "62cdfe65",
   "metadata": {
    "id": "62cdfe65"
   },
   "source": [
    "Considering the new domain $\\Omega = (0,1)$ and the forcing term $f(x) = x(1-x)$ with B.C. $u(x) = 0$, on $\\partial \\Omega = {0,1}$ produce a plot and a table where you show the decay of the error w.r.t. the number of grid points.\n",
    "(The analytical solution for the above problems is $u_{an} = \\frac{x^4}{12} - \\frac{x^3}{6} + \\frac{x}{12}$)"
   ]
  },
  {
   "cell_type": "code",
   "execution_count": 9,
   "id": "91212afb",
   "metadata": {
    "id": "91212afb"
   },
   "outputs": [
    {
     "data": {
      "text/plain": [
       "[<matplotlib.lines.Line2D at 0xffff3dd042b0>]"
      ]
     },
     "execution_count": 9,
     "metadata": {},
     "output_type": "execute_result"
    },
    {
     "data": {
      "image/png": "[encoded data removed]",
      "text/plain": [
       "<Figure size 432x288 with 1 Axes>"
      ]
     },
     "metadata": {
      "needs_background": "light"
     },
     "output_type": "display_data"
    }
   ],
   "source": [
    "omega = [0,1]\n",
    "f = lambda x : x*(1-x)\n",
    "n=100\n",
    "bc = [0,0]\n",
    "A, b = finDif(omega, f, n, bc)\n",
    "L,U=LU(A)\n",
    "xspace=linspace(0,1,n)\n",
    "yspace=xspace**4/12-xspace**3/6+xspace/12\n",
    "y=U_solve(U,L_solve(L,b))\n",
    "plot(xspace,y)\n",
    "plot(xspace,yspace)"
   ]
  },
  {
   "cell_type": "markdown",
   "id": "c8d5002f",
   "metadata": {
    "id": "c8d5002f"
   },
   "source": [
    "Exploit the derived LU factorizations to compute the condition number of the system's matrix $A$ using the original problem formulation."
   ]
  },
  {
   "cell_type": "code",
   "execution_count": 10,
   "id": "c25fc1fe",
   "metadata": {
    "id": "c25fc1fe"
   },
   "outputs": [
    {
     "name": "stdout",
     "output_type": "stream",
     "text": [
      "53309.90730316458\n"
     ]
    }
   ],
   "source": [
    "def direct_power_method(A,nmax,tol):\n",
    "    x0=random.rand(len(A))\n",
    "    q = x0/linalg.norm(x0,2)\n",
    "    it = 0\n",
    "    err = tol + 0.1\n",
    "    while it < nmax and err > tol:\n",
    "        x = dot(A,q)\n",
    "        l = dot(q.T,x)\n",
    "        err = linalg.norm(x-l*q,2)\n",
    "        q = x/linalg.norm(x,2)\n",
    "        it += 1\n",
    "    return l,q\n",
    "\n",
    "def inverse_power_method_noshift(A,nmax,tol):\n",
    "    n=len(A)\n",
    "    L,U=LU(A)\n",
    "    B=A.copy()\n",
    "    I=eye(n)\n",
    "    for i in range(n):\n",
    "        B[:,i]=U_solve(U,L_solve(L,I[:,i]))\n",
    "    l,q=direct_power_method(B,nmax,tol)\n",
    "    return 1/l,q\n",
    "\n",
    "#Assuming condition number relative to norm 2\n",
    "def condNumb(A):\n",
    "    l1,q1=direct_power_method(A,500,1e-05)\n",
    "    l2,q2=inverse_power_method_noshift(A,500,1e-05)\n",
    "    return l1/l2\n",
    "\n",
    "print(condNumb(A))"
   ]
  },
  {
   "cell_type": "markdown",
   "id": "2728b49a",
   "metadata": {
    "id": "2728b49a"
   },
   "source": [
    "Implement a preconditioned Conjugant Gradient method to solve the original linear system of equations using an iterative method:"
   ]
  },
  {
   "cell_type": "code",
   "execution_count": 11,
   "id": "62b83aee",
   "metadata": {
    "id": "62b83aee"
   },
   "outputs": [],
   "source": [
    "def conjugate_gradient(A, b, P, nmax, eps=1e-10):\n",
    "\n",
    "    xold = zeros_like(b)\n",
    "    rold=b-dot(A,xold)\n",
    "    zold=LU_solve(P,rold)\n",
    "    pold=zold\n",
    "    tol=eps+1\n",
    "    i=0\n",
    "    while (i<nmax and tol>eps):\n",
    "        temp=dot(A,pold)\n",
    "        alpha=dot(pold.T,rold)/dot(pold.T,temp)\n",
    "        x=xold+alpha*pold\n",
    "        r=rold-alpha*temp\n",
    "        z=LU_solve(P,r)\n",
    "        beta=dot(temp.T,z)/dot(temp.T,pold)\n",
    "        p=z-beta*pold\n",
    "        tol=linalg.norm(r,2)\n",
    "        xold=x\n",
    "        rold=r\n",
    "        pold=p\n",
    "        zold=z\n",
    "    \n",
    "    return x\n",
    "        \n",
    "    \n",
    "\n"
   ]
  },
  {
   "cell_type": "markdown",
   "id": "8a4cfc02",
   "metadata": {
    "id": "8a4cfc02"
   },
   "source": [
    "Consider the following time dependent variation of the PDE starting from the orginal problem formulation:\n",
    "$$\n",
    "u'(t)-u_{xx} = \\alpha(t)f(x)\n",
    "$$\n",
    "\n",
    "for $t\\in [0,T]$, with $\\alpha(t) = \\cos(t)$ and $T = 6\\pi$\n",
    "\n",
    "Use the same finite difference scheme to derive the semi-discrete formulation and solve it using a forward Euler's method.\n",
    "\n",
    "Plot the time dependent solution solution at $x = \\pi/2$, $x=1$, \n",
    "$x=\\pi$\n"
   ]
  },
  {
   "cell_type": "markdown",
   "id": "2b33ba0c",
   "metadata": {},
   "source": [
    "### Formal description the PDE\n",
    "The method will solve a problem of type:\n",
    "$$\\begin{cases}  \n",
    "u_{x x}+\\alpha(t) f(x)=\\frac{\\partial u}{\\partial t}(t, x) & (t,x) \\in (0,T] \\times (a,b)\\\\\n",
    "u(0,x)=g(x) & \\forall x \\in [a,b]\\\\\n",
    "u(t,a)=p(t)\\\\\n",
    "u(t,b)=q(t)\\\\\n",
    "\\end{cases}$$\n",
    "with the necessary continuity assumptions, where $a,b,T \\in \\mathbb{R}$\n",
    "\n",
    "\n",
    "\n",
    "### Formal description the approximation used\n",
    "Let's start by discretizing time and substiting:\n",
    "$$\n",
    "u_{x x}+\\alpha(t) f(x)=\\frac{\\partial u}{\\partial t}(t, x) \\Rightarrow u\\left(t_{i+1},x\\right)=u\\left( t_{i},x\\right)+h_{\\mathrm{t}} u_{x x}\\left( t_{i},x\\right)+h_{\\mathrm{t}} \\alpha\\left(t_{i}\\right) f(x) \\\\\n",
    "$$\n",
    "Then let's discretize space\n",
    "$$u_{xx}(t,x_{j})=\\frac{-u\\left(t, x_{j-2}\\right)+16 u\\left(t, x_{j-1}\\right)-30 u\\left(t, x_{j}\\right)+16 u\\left(t, x_{j+1}\\right)-u\\left(t, x_{j+2}\\right)}{12 h_{x}^{2}}$$\n",
    "\n",
    "\n",
    "After substiting and doing some calculations we arrive at\n",
    "\n",
    "\\begin{aligned}\n",
    "u\\left(t_{i+1}, x_{j}\\right) = h_{\\mathrm{t}}\\left(\\frac{-u\\left(t_{i}, x_{j-2}\\right)+16 u\\left(t_{i},x_{j-1}\\right)-\\left(30-12 h_{x}^{2} / h_{t}\\right) u\\left(t_{i},x_{j}\\right)+16 u\\left(t_{i}, x_{j+1}\\right)-u\\left(t_{i},x_{j+2}\\right)}{12 h_{x}^{2}}+\\alpha\\left(t_{i}\\right) f\\left(x_{j}\\right)\\right)\n",
    "\\end{aligned}\n",
    "\n",
    "However this discrete method does not work for $x=1$ and $x=N_{x}-1$. For this points we will use another  approximation of x $$u_{xx}(t,x_{j})=\\frac{u(t,x_{j-1})-2u(t,x_{j})+u(t,x_{j+1})}{h_{x}^{2}} $$ \n",
    "After substiting we arrive at $$ u\\left(t_{i+1}, x_{j}\\right) = h_{\\mathrm{t}}\\left(\\frac{ u\\left(t_{i},x_{j-1}\\right)-\\left(2-h_{x}^{2} / h_{t}\\right) u\\left(t_{i},x_{j}\\right)+ u\\left(t_{i}, x_{j+1}\\right)}{ h_{x}^{2}}+\\alpha\\left(t_{i}\\right) f\\left(x_{j}\\right)\\right)\n",
    " $$\n",
    "\n",
    "Vectorizing on the variable $x$ similarly to the first exercise we arrive at $\\exists A$ s.t.\n",
    "$$u(:,t_{i+1})=Au(:,t_{i})+h_{t}f(:)\\alpha(t_{i})$$\n",
    "i.e. a dynamical system.\n",
    "\n"
   ]
  },
  {
   "cell_type": "code",
   "execution_count": null,
   "id": "b5a628f5",
   "metadata": {},
   "outputs": [],
   "source": []
  },
  {
   "cell_type": "code",
   "execution_count": 12,
   "id": "3ffe0689",
   "metadata": {
    "id": "3ffe0689"
   },
   "outputs": [
    {
     "data": {
      "text/plain": [
       "<matplotlib.legend.Legend at 0xffff3b5fa670>"
      ]
     },
     "execution_count": 12,
     "metadata": {},
     "output_type": "execute_result"
    },
    {
     "data": {
      "image/png": "[encoded data removed]",
      "text/plain": [
       "<Figure size 432x288 with 1 Axes>"
      ]
     },
     "metadata": {
      "needs_background": "light"
     },
     "output_type": "display_data"
    }
   ],
   "source": [
    "def PDEsol(f,alpha,nt,nx,a,b,T,g,q,p):\n",
    "    x=linspace(a,b,nx)\n",
    "    t=linspace(0,T,nt)\n",
    "\n",
    "    ht=T/nt\n",
    "    hx=(b-a)/nx\n",
    "    \n",
    "    A=zeros((nx,nx),dtype=float)\n",
    "    for i in range(2,nx-2):\n",
    "        A[i, i-1] = A[i, i+1] = 16/12\n",
    "        A[i, i-2] = A[i, i+2] = -1/12\n",
    "        A[i,i] = (-30+12*hx**2/ht)/12\n",
    "\n",
    "    A[1,0]=A[1,2]=A[nx-2,nx-3]=A[nx-2,nx-1]=1\n",
    "    A[1,1]=A[nx-2,nx-2]=(-2+hx**2/ht)\n",
    "    A[0,0] = A[-1,-1]=1\n",
    "    \n",
    "    A=ht*A/hx**2\n",
    "\n",
    "    fx=f(x)\n",
    "    alphat=alpha(t)\n",
    "    \n",
    "    U=zeros((nt,nx),dtype=float)\n",
    "    U[0,:]=g(x)\n",
    "\n",
    "    U[:,0]=p(t)\n",
    "    U[:,nx-1]=q(t)\n",
    "\n",
    "    for i in range(1,nt):\n",
    "        U[i,:]=dot(A,U[i-1,:])+ht*fx*alphat[i]\n",
    "      \n",
    "    return U\n",
    "\n",
    "a=0\n",
    "b=pi\n",
    "T=6*pi\n",
    "q=lambda x: 0\n",
    "p=lambda x:0\n",
    "f = lambda x : sin(x)\n",
    "alpha= lambda x: cos(x)\n",
    "g= lambda x: 0\n",
    "nx=50\n",
    "nt=100000\n",
    "bc=[0,0]\n",
    "sol=PDEsol(f,alpha,nt,nx,a,b,T,g,p,q)\n",
    "\n",
    "#computation of approximate x\n",
    "piapp=argmin(abs(linspace(a,b,nx)-pi))*(b-a)/nx\n",
    "pihapp=argmin(abs(linspace(a,b,nx)-pi/2))*(b-a)/nx\n",
    "oneapp=argmin(abs(linspace(a,b,nx)-1))*(b-a)/nx\n",
    "\n",
    "\n",
    "\n",
    "plot(linspace(0,T,nt),sol[:,argmin(abs(linspace(a,b,nx)-pi/2))], '-b', label='x={}'.format(piapp))\n",
    "plot(linspace(0,T,nt),sol[:,argmin(abs(linspace(a,b,nx)-1))], '-r',label='x={}'.format(oneapp))\n",
    "plot(linspace(0,T,nt),sol[:,argmin(abs(linspace(a,b,nx)-pi))], '-g',label='x={}'.format(pihapp))\n",
    "matplotlib.pyplot.legend()\n"
   ]
  },
  {
   "cell_type": "markdown",
   "id": "36936121",
   "metadata": {
    "id": "36936121"
   },
   "source": [
    "Given the original $Au = b$ system, implement an algorithm to compute the eigenvalues and eigenvectors of the matrix $A$. Exploit the computed LU factorization"
   ]
  },
  {
   "cell_type": "code",
   "execution_count": 13,
   "id": "622aadf4",
   "metadata": {
    "id": "622aadf4"
   },
   "outputs": [],
   "source": [
    "#calculates the nearest eigenvalue to mu and its corresponding eigentvector: this method is not used\n",
    "def inverse_power_method_shift(A,nmax,tol,mu):\n",
    "    n=len(A)\n",
    "    L,U=LU(A)\n",
    "    I=eye(n)\n",
    "    B=A.copy()-mu*I.copy()\n",
    "    for i in range(n):\n",
    "        B[:,i]=U_solve(U,L_solve(L,I[:,i]))\n",
    "    l,q=direct_power_method(B,nmax,tol)\n",
    "    return (1/l+mu),q\n"
   ]
  },
  {
   "cell_type": "markdown",
   "id": "d4a54ad7",
   "metadata": {},
   "source": [
    "### Solution\n",
    "For a symmetric diagonalizable matrix $A$, it holds $A=\\sum_{i=1}^{n}\\lambda_{i}v_{i}v_{i}^{T}$ where $v_{i}$ and $\\lambda_{i}$ are the i-th eigenvector and eigenvalue."
   ]
  },
  {
   "cell_type": "code",
   "execution_count": 14,
   "id": "4248fd96",
   "metadata": {},
   "outputs": [],
   "source": [
    "#Works only for symmetric diagonalizable matrices\n",
    "def eigendecomposition(A,nmax,tol=1e-08):\n",
    "    n=len(A)\n",
    "    d=zeros(n)\n",
    "    V=zeros([n,n])\n",
    "    for i in range(n):\n",
    "        d[i],V[:,i]=direct_power_method(A,nmax,tol)\n",
    "        A=A-d[i]*outer(V[:,i],V[:,i])\n",
    "    return d,V\n",
    "\n"
   ]
  },
  {
   "cell_type": "markdown",
   "id": "d5a85335",
   "metadata": {},
   "source": [
    "Determinant using LU"
   ]
  },
  {
   "cell_type": "code",
   "execution_count": 15,
   "id": "9b037e89",
   "metadata": {},
   "outputs": [],
   "source": [
    "def LU_det(A):\n",
    "    L,U=LU(A)\n",
    "    return U.diagonal().prod()"
   ]
  },
  {
   "cell_type": "markdown",
   "id": "85d5f64e",
   "metadata": {
    "id": "85d5f64e"
   },
   "source": [
    "Compute the inverse of the matrix A exploiting the derived LU factorization"
   ]
  },
  {
   "cell_type": "code",
   "execution_count": 16,
   "id": "6ad7199f",
   "metadata": {
    "id": "6ad7199f"
   },
   "outputs": [],
   "source": [
    "def inverse(A):\n",
    "    n=shape(A)[0]\n",
    "    B=A.copy()\n",
    "    I=eye(n)\n",
    "    for i in range(n):\n",
    "        B[:,i]=U_solve(U,L_solve(L,I[:,i]))\n",
    "    return B\n"
   ]
  },
  {
   "cell_type": "markdown",
   "id": "cb22566e",
   "metadata": {
    "id": "cb22566e"
   },
   "source": [
    "Consider the following Cauchy problem\n",
    "$$\n",
    "\\begin{cases}\n",
    "y'= -ty^2 \\quad 0\\le t \\le 2\\\\\n",
    "y(0) = 1\n",
    "\\end{cases}\n",
    "$$\n",
    "Implement a Backward Euler's method in a suitable function and solve the resulting non-linear equation using a Newton's method."
   ]
  },
  {
   "cell_type": "code",
   "execution_count": 17,
   "id": "3184e358",
   "metadata": {
    "id": "3184e358"
   },
   "outputs": [
    {
     "data": {
      "text/plain": [
       "[<matplotlib.lines.Line2D at 0xffff3b57b700>]"
      ]
     },
     "execution_count": 17,
     "metadata": {},
     "output_type": "execute_result"
    },
    {
     "data": {
      "image/png": "[encoded data removed]",
      "text/plain": [
       "<Figure size 432x288 with 1 Axes>"
      ]
     },
     "metadata": {
      "needs_background": "light"
     },
     "output_type": "display_data"
    }
   ],
   "source": [
    "#newton method implementation\n",
    "def newton(f,f1,x0,epsilon=1e-10,max_iter=500):\n",
    "    x = x0\n",
    "    for n in range(0,max_iter):\n",
    "        if abs(f(x)) < epsilon:\n",
    "            return x\n",
    "        if f1(x) == 0:\n",
    "            return None\n",
    "        x = x - f(x)/f1(x)\n",
    "    return x\n",
    "\n",
    "\n",
    "f=lambda t,y: -t*(y**2)\n",
    "f1=lambda t,y: -t*2*y\n",
    "#backward euler implementation\n",
    "def backward_euler(y0,g,g1,omega,n):\n",
    "    tspace=linspace(omega[0],omega[1],n)\n",
    "    h=(omega[1]-omega[0])/n\n",
    "    f=lambda t,z,x: z-h*g(t,z)-x\n",
    "    f1=lambda t,z,x: 1-h*g1(t,z)\n",
    "    y=zeros(n)\n",
    "    y[0]=y0\n",
    "    for i in range(1,n):\n",
    "        ft=lambda z: f(tspace[i],z,y[i-1])\n",
    "        ft1=lambda z: f1(tspace[i],z,y[i-1])\n",
    "        y[i]=newton(ft,ft1,y[i-1])\n",
    "    return y\n",
    "n=50\n",
    "y=backward_euler(1,f,f1,array([0,2]),n)\n",
    "plot(linspace(0,2,n),y)\n",
    "plot(linspace(0,2,n),2/(linspace(0,2,n)**2+2))"
   ]
  },
  {
   "cell_type": "markdown",
   "id": "19584761",
   "metadata": {},
   "source": [
    "# Tests\n",
    "\n",
    "Tests on linear algebra are done with random sdp matrices. Tests on the newton method, the simple ode and the pde without time are done with the arguments requested in the project. For the pde with time derivative I was not able to find an explicit solution of the one with $g(x)=cos(x)$, so I did the test with $g(x)=0.5\\cos(x)$ for which the solution is $u(t,x)=sin(x)(cos(t)-sin(t))$"
   ]
  },
  {
   "cell_type": "code",
   "execution_count": 18,
   "id": "alternate-trinidad",
   "metadata": {},
   "outputs": [
    {
     "name": "stdout",
     "output_type": "stream",
     "text": [
      "Tests of manually implemented functions on random sdp and vector:\n",
      "relative L error in inplemented LU factorization is 2.029358257832441e-15\n",
      "relative U error in inplemented LU factorization is 6.981192356668348e-16\n",
      "relative error in matrix inverse computation using LU is 1.8124031419104778e-14\n",
      "relative error in cholesky is 1.8184329029308924e-12\n",
      "relative error in LU_solve is 7.057925440051885e-15\n",
      "relative error in conjugant gradient is 6.53141716359704e-12\n",
      "relative error in eigenvalue calculation is 7.070210020586287e-16\n",
      "relative error in determinant is 1.9015317775395346e-15\n",
      "relative error of newton method is 2.220446049250313e-16\n",
      "relative error of the pde solution without time derivative is 0.0006670001493861344\n",
      "relative error of the ode solution is 9.053837071986182e-05\n",
      "relative error of the pde solution with time derivative is 0.01427824739219362\n",
      "Everything works :-)\n"
     ]
    }
   ],
   "source": [
    "n=50\n",
    "#initialize random spd matrix\n",
    "A=sklearn.datasets.make_spd_matrix(50)\n",
    "b=random.rand(1,n)[0]\n",
    "#LU factorization of the linalg can not be used because it may do some permutations\n",
    "Ltrue=splu(scipy.sparse.csc_matrix(A), permc_spec = \"NATURAL\", diag_pivot_thresh=0, options={\"SymmetricMode\":True}).L.toarray()\n",
    "Utrue=splu(scipy.sparse.csc_matrix(A), permc_spec = \"NATURAL\", diag_pivot_thresh=0, options={\"SymmetricMode\":True}).U.toarray()\n",
    "L,U=LU(A)\n",
    "Soltrue=linalg.solve(A,b)\n",
    "sollu=LU_solve(A,b)\n",
    "solgrad=conjugate_gradient(A,b,eye(len(A)),len((A)))\n",
    "Eigtrue=sort(linalg.eigvals(A))\n",
    "Eig,V=eigendecomposition(A,100000)\n",
    "Eig=sort(Eig)\n",
    "print('Tests of manually implemented functions on random sdp and vector:')\n",
    "print('relative L error in inplemented LU factorization is', linalg.norm(L-Ltrue)/linalg.norm(Ltrue))\n",
    "print('relative U error in inplemented LU factorization is', linalg.norm(U-Utrue)/linalg.norm(Utrue))\n",
    "print('relative error in matrix inverse computation using LU is', linalg.norm(linalg.inv(A)-inverse(A))/linalg.norm(linalg.inv(A)))\n",
    "print('relative error in cholesky is', linalg.norm(cholesky(A)-scipy.linalg.cholesky(A))/linalg.norm(linalg.cholesky(A)))\n",
    "print('relative error in LU_solve is', linalg.norm(sollu-Soltrue)/linalg.norm(Soltrue))\n",
    "print('relative error in conjugant gradient is', linalg.norm(solgrad-Soltrue)/linalg.norm(Soltrue))\n",
    "print('relative error in eigenvalue calculation is', linalg.norm(Eigtrue-Eig)/linalg.norm(Eigtrue))\n",
    "print('relative error in determinant is', linalg.norm(LU_det(A)-linalg.det(A))/linalg.norm(linalg.det(A)))\n",
    "\n",
    "f=lambda x: x**3-x**2+x-1\n",
    "f1= lambda x: 3*x**2-2*x+1\n",
    "newtonsol=newton(f,f1,0.9)\n",
    "print('relative error of newton method is',linalg.norm(1-newtonsol)/linalg.norm(1))\n",
    "\n",
    "\n",
    "omega = [0,1]\n",
    "f = lambda x : x*(1-x)\n",
    "n=3000\n",
    "bc = [0,0]\n",
    "A, b = finDif(omega, f, n, bc)\n",
    "L,U=LU(A)\n",
    "xspace=linspace(0,1,n)\n",
    "yspace=xspace**4/12-xspace**3/6+xspace/12\n",
    "y=U_solve(U,L_solve(L,b))\n",
    "print('relative error of the pde solution without time derivative is', linalg.norm(y-yspace)/linalg.norm(y))\n",
    "\n",
    "f=lambda t,y: -t*(y**2)\n",
    "f1=lambda t,y: -t*2*y\n",
    "y=backward_euler(1,f,f1,array([0,2]),n)\n",
    "\n",
    "print('relative error of the ode solution is',linalg.norm(y-2/(linspace(0,2,n)**2+2))/linalg.norm(2/(linspace(0,2,n)**2+2)))\n",
    "\n",
    "a=0\n",
    "b=pi\n",
    "T=6*pi\n",
    "q=lambda x: 0\n",
    "p=lambda x:0\n",
    "f = lambda x : sin(x)\n",
    "alpha= lambda x: cos(x)\n",
    "g= lambda x: 0.5*sin(x)\n",
    "nx=100\n",
    "nt=100000\n",
    "sol=PDEsol(f,alpha,nt,nx,a,b,T,g,p,q)\n",
    "realfun=lambda x,t: 0.5*(cos(t)+sin(t))*sin(x)\n",
    "rangex=linspace(0,pi,nx)\n",
    "ranget=linspace(0,T,nt)\n",
    "realsol=zeros([nt,nx])\n",
    "\n",
    "for j in range(nx):\n",
    "    realsol[:,j]=0.5*(cos(ranget)+sin(ranget))*sin(rangex[j])\n",
    "\n",
    "print('relative error of the pde solution with time derivative is', linalg.norm(sol-realsol)/linalg.norm(realsol))\n",
    "\n",
    "print('Everything works :-)')\n",
    "\n",
    "\n",
    "\n",
    "\n"
   ]
  },
  {
   "cell_type": "code",
   "execution_count": null,
   "id": "c9b22d66",
   "metadata": {},
   "outputs": [],
   "source": []
  },
  {
   "cell_type": "code",
   "execution_count": null,
   "id": "f2ae0219",
   "metadata": {},
   "outputs": [],
   "source": []
  },
  {
   "cell_type": "code",
   "execution_count": null,
   "id": "8f7f35f1",
   "metadata": {},
   "outputs": [],
   "source": []
  }
 ],
 "metadata": {
  "colab": {
   "name": "FinalProject-2021-2022.ipynb",
   "provenance": []
  },
  "kernelspec": {
   "display_name": "Python 3.9.8 64-bit",
   "language": "python",
   "name": "python3"
  },
  "language_info": {
   "codemirror_mode": {
    "name": "ipython",
    "version": 3
   },
   "file_extension": ".py",
   "mimetype": "text/x-python",
   "name": "python",
   "nbconvert_exporter": "python",
   "pygments_lexer": "ipython3",
   "version": "3.9.8"
  },
  "vscode": {
   "interpreter": {
    "hash": "aee8b7b246df8f9039afb4144a1f6fd8d2ca17a180786b69acc140d282b71a49"
   }
  }
 },
 "nbformat": 4,
 "nbformat_minor": 5
}
