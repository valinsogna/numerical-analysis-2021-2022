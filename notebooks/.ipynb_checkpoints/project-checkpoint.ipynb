{
 "cells": [
  {
   "cell_type": "code",
   "execution_count": 1,
   "id": "3fe94688",
   "metadata": {
    "id": "3fe94688"
   },
   "outputs": [],
   "source": [
    "%matplotlib inline\n",
    "from numpy import *\n",
    "from matplotlib.pyplot import *"
   ]
  },
  {
   "cell_type": "markdown",
   "id": "8184faab",
   "metadata": {
    "id": "8184faab"
   },
   "source": [
    "Consider the following one-dimensional PDE:\n",
    "$$\n",
    "-u_{xx}(x) = f(x)\\quad\\mathrm{ in }\\ \\Omega = (0, \\pi)\n",
    "$$\n",
    "$$\n",
    "u(x) = 0, \\quad\\mathrm{ on }\\ \\partial\\Omega = \\{0, \\pi\\}\n",
    "$$\n",
    "\n",
    "Given the following $4^{th}$ order finite difference approximation of the second order derivative:\n",
    "\n",
    "$$u_{xx}(x_i) = \\frac{-u_{i-2}+16u_{i-1}-30u_i+16u_{i+1}-u_{i+2}}{12h^2}$$\n",
    "\n",
    "Implement a function that given the domain interval, the forcing function, the number of discretization points (<b> equispaced ?</b>), the boundary conditions, returns the matrix $A$ and the the right hand side $b$."
   ]
  },
  {
   "cell_type": "code",
   "execution_count": 2,
   "id": "1c562f13",
   "metadata": {
    "id": "1c562f13"
   },
   "outputs": [],
   "source": [
    "def finDif(omega,f,n,bc):\n",
    "    assert n >= 3 #at least the bounderies + 1 middle point\n",
    "    assert type(omega) is list\n",
    "    assert type(bc) is list\n",
    "    assert len(omega) == 2\n",
    "    assert len(bc) == 2\n",
    "    assert omega[0] < omega[-1]\n",
    "    \n",
    "    # Get size of each subinterval  (𝑥𝑖,𝑥𝑖+1):\n",
    "    h = 1./(n-1) \n",
    "\n",
    "    # Extract domain boundaries:\n",
    "    start = omega[0]\n",
    "    end = omega[-1]\n",
    "    \n",
    "    # Evaluate forcing function on grid points:\n",
    "    x = linspace(start,end,n)\n",
    "    b = f(x) #rhs\n",
    "    \n",
    "    # Using 4𝑡ℎ order FD of 2nd derivative:\n",
    "    aij2 = 1*ones((n-2,)) # Second Offdiagonal entries\n",
    "    aij1 = -16*ones((n-1,)) # First Offdiagonal entries\n",
    "    aii = +30*ones((n,)) # Diagonal entries\n",
    "    A = (diag(aij2, -2) + diag(aij1, -1) + diag(aii, 0) + diag(aij1, +1) + diag(aij2, +2))\n",
    "    A /= 12*h**2\n",
    "    \n",
    "    # Change first row of the matrix A and rhs\n",
    "    A[0,:] = 0\n",
    "    A[0,0] = 1\n",
    "    b[0] = bc[0]\n",
    "\n",
    "    # Change last row of the matrix A and rhs\n",
    "    A[-1,:] = 0\n",
    "    A[-1,-1] = 1\n",
    "    b[-1] = bc[-1]\n",
    "    \n",
    "    return A, b"
   ]
  },
  {
   "cell_type": "markdown",
   "id": "c21bb21e",
   "metadata": {
    "id": "c21bb21e"
   },
   "source": [
    "Call the function using:"
   ]
  },
  {
   "cell_type": "code",
   "execution_count": 3,
   "id": "23af8831",
   "metadata": {
    "id": "23af8831"
   },
   "outputs": [
    {
     "name": "stdout",
     "output_type": "stream",
     "text": [
      "[[ 1.00000e+00  0.00000e+00  0.00000e+00 ...  0.00000e+00  0.00000e+00\n",
      "   0.00000e+00]\n",
      " [-1.30680e+04  2.45025e+04 -1.30680e+04 ...  0.00000e+00  0.00000e+00\n",
      "   0.00000e+00]\n",
      " [ 8.16750e+02 -1.30680e+04  2.45025e+04 ...  0.00000e+00  0.00000e+00\n",
      "   0.00000e+00]\n",
      " ...\n",
      " [ 0.00000e+00  0.00000e+00  0.00000e+00 ...  2.45025e+04 -1.30680e+04\n",
      "   8.16750e+02]\n",
      " [ 0.00000e+00  0.00000e+00  0.00000e+00 ... -1.30680e+04  2.45025e+04\n",
      "  -1.30680e+04]\n",
      " [ 0.00000e+00  0.00000e+00  0.00000e+00 ...  0.00000e+00  0.00000e+00\n",
      "   1.00000e+00]]\n"
     ]
    }
   ],
   "source": [
    "omega = [0,pi]\n",
    "f = lambda x : sin(x)\n",
    "n=100\n",
    "bc = [0,0]\n",
    "A, b = finDif(omega, f, n, bc)\n",
    "\n",
    "print(A)"
   ]
  },
  {
   "cell_type": "markdown",
   "id": "4f8a7c6f",
   "metadata": {
    "id": "4f8a7c6f"
   },
   "source": [
    "Implement two functions that compute the LU and the Cholesky factorization of the system matrix $A$"
   ]
  },
  {
   "cell_type": "code",
   "execution_count": 4,
   "id": "47468a37",
   "metadata": {
    "id": "47468a37"
   },
   "outputs": [],
   "source": [
    "def LU(A):\n",
    "    A = A.copy()\n",
    "    N=len(A)\n",
    "    for k in range(N-1):\n",
    "        if (abs(A[k,k]) < 1e-15):\n",
    "            raise RuntimeError(\"Null pivot\")\n",
    "            \n",
    "        A[k+1:N,k] /= A[k,k]\n",
    "        for j in range(k+1,N):\n",
    "            A[k+1:N,j] -= A[k+1:N,k]*A[k,j]\n",
    "    \n",
    "    L=tril(A)\n",
    "    for i in range(N):\n",
    "        L[i,i]=1.0\n",
    "    U = triu(A)\n",
    "    return L, U\n",
    "\n",
    "L, U = LU(A)"
   ]
  },
  {
   "cell_type": "code",
   "execution_count": 5,
   "id": "193ebfed",
   "metadata": {
    "id": "193ebfed"
   },
   "outputs": [
    {
     "name": "stderr",
     "output_type": "stream",
     "text": [
      "<ipython-input-5-adb1c11b8647>:5: RuntimeWarning: invalid value encountered in sqrt\n",
      "  A[k,k] = sqrt(A[k,k])\n"
     ]
    }
   ],
   "source": [
    "def cholesky(A):\n",
    "    A = A.copy()\n",
    "    N = len(A)\n",
    "    for k in range(N-1):\n",
    "        A[k,k] = sqrt(A[k,k])\n",
    "        A[k+1:N,k] = A[k+1:N,k]/A[k,k]\n",
    "        \n",
    "        for j in range(k+1,N):\n",
    "            A[j:N,j] = A[j:N,j] - A[j:N,k]*A[j,k]\n",
    "        \n",
    "    A[-1,-1] = sqrt(A[-1,-1])\n",
    "    L=tril(A)#lower triangular\n",
    "    return L, L.transpose()\n",
    "\n",
    "HT, H = cholesky(A)#upper triangular"
   ]
  },
  {
   "cell_type": "markdown",
   "id": "41eb8436",
   "metadata": {
    "id": "41eb8436"
   },
   "source": [
    "Implement forward and backward substitution functions to exploit the developed factorization methods to solve the derived linear system of equations."
   ]
  },
  {
   "cell_type": "code",
   "execution_count": 6,
   "id": "019cf0df",
   "metadata": {
    "id": "019cf0df"
   },
   "outputs": [],
   "source": [
    "def L_solve(L,rhs):\n",
    "    x = zeros_like(rhs)\n",
    "    N = len(L)\n",
    "        \n",
    "    x[0] = rhs[0]/L[0,0]\n",
    "    for i in range(1,N):\n",
    "        x[i] = (rhs[i] - dot(L[i, 0:i], x[0:i]))/L[i,i]\n",
    "    \n",
    "    return x"
   ]
  },
  {
   "cell_type": "code",
   "execution_count": 7,
   "id": "26ce17c4",
   "metadata": {
    "id": "26ce17c4"
   },
   "outputs": [],
   "source": [
    "def U_solve(U,rhs):\n",
    "    x = zeros_like(rhs)\n",
    "    N = len(U)\n",
    "        \n",
    "    x[-1] = rhs[-1]/U[-1,-1]\n",
    "    for i in reversed(range(N-1)):\n",
    "        x[i] = (rhs[i] - dot(U[i, i+1:N], x[i+1:N]))/U[i,i]\n",
    "    \n",
    "    return x"
   ]
  },
  {
   "cell_type": "markdown",
   "id": "08ac9ba1",
   "metadata": {
    "id": "08ac9ba1"
   },
   "source": [
    "Solve the derived linear system using the implemented functions and plot the computed solution:"
   ]
  },
  {
   "cell_type": "code",
   "execution_count": 8,
   "id": "7c1de4f3",
   "metadata": {
    "id": "7c1de4f3",
    "scrolled": true
   },
   "outputs": [
    {
     "data": {
      "image/png": "[encoded data removed]",
      "text/plain": [
       "<Figure size 432x288 with 1 Axes>"
      ]
     },
     "metadata": {
      "needs_background": "light"
     },
     "output_type": "display_data"
    }
   ],
   "source": [
    "# Using LU\n",
    "y = L_solve(L,b)\n",
    "u_LU = U_solve(U,y)\n",
    "\n",
    "# Using Cholesky\n",
    "w = L_solve(HT,b)\n",
    "u_Ch = U_solve(H,w)\n",
    "\n",
    "x = linspace(omega[0],omega[-1],n)\n",
    "_ = plot(x,u_LU,'ro', label='LU')\n",
    "_ = plot(x,u_Ch,'bx', label='Cholesky')\n",
    "_ = legend()"
   ]
  },
  {
   "cell_type": "markdown",
   "id": "62cdfe65",
   "metadata": {
    "id": "62cdfe65"
   },
   "source": [
    "Considering the new domain $\\Omega = (0,1)$ and the forcing term $f(x) = x(1-x)$ with B.C. $u(x) = 0$, on $\\partial \\Omega = {0,1}$ produce a plot and a table where you show the decay of the error w.r.t. the number of grid points.\n",
    "(The analytical solution for the above problems is $u_{an} = \\frac{x^4}{12} - \\frac{x^3}{6} + \\frac{x}{12}$)"
   ]
  },
  {
   "cell_type": "markdown",
   "id": "9266d37f",
   "metadata": {},
   "source": [
    "Let's first try with n=33:"
   ]
  },
  {
   "cell_type": "code",
   "execution_count": 9,
   "id": "4d1e8621",
   "metadata": {},
   "outputs": [
    {
     "name": "stdout",
     "output_type": "stream",
     "text": [
      "nan\n",
      "[[ 1.00000000e+00  0.00000000e+00  0.00000000e+00 ...  0.00000000e+00\n",
      "   0.00000000e+00  0.00000000e+00]\n",
      " [-1.36533333e+03  2.56000000e+03 -1.36533333e+03 ...  0.00000000e+00\n",
      "   0.00000000e+00  0.00000000e+00]\n",
      " [ 8.53333333e+01 -1.36533333e+03  2.56000000e+03 ...  0.00000000e+00\n",
      "   0.00000000e+00  0.00000000e+00]\n",
      " ...\n",
      " [ 0.00000000e+00  0.00000000e+00  0.00000000e+00 ...  2.56000000e+03\n",
      "  -1.36533333e+03  8.53333333e+01]\n",
      " [ 0.00000000e+00  0.00000000e+00  0.00000000e+00 ... -1.36533333e+03\n",
      "   2.56000000e+03 -1.36533333e+03]\n",
      " [ 0.00000000e+00  0.00000000e+00  0.00000000e+00 ...  0.00000000e+00\n",
      "   0.00000000e+00  1.00000000e+00]]\n",
      "[ 0.         -0.03027344 -0.05859375 -0.08496094 -0.109375   -0.13183594\n",
      " -0.15234375 -0.17089844 -0.1875     -0.20214844 -0.21484375 -0.22558594\n",
      " -0.234375   -0.24121094 -0.24609375 -0.24902344 -0.25       -0.24902344\n",
      " -0.24609375 -0.24121094 -0.234375   -0.22558594 -0.21484375 -0.20214844\n",
      " -0.1875     -0.17089844 -0.15234375 -0.13183594 -0.109375   -0.08496094\n",
      " -0.05859375 -0.03027344  0.        ]\n"
     ]
    },
    {
     "name": "stderr",
     "output_type": "stream",
     "text": [
      "<ipython-input-5-adb1c11b8647>:5: RuntimeWarning: invalid value encountered in sqrt\n",
      "  A[k,k] = sqrt(A[k,k])\n"
     ]
    },
    {
     "data": {
      "image/png": "[encoded data removed]",
      "text/plain": [
       "<Figure size 432x288 with 1 Axes>"
      ]
     },
     "metadata": {
      "needs_background": "light"
     },
     "output_type": "display_data"
    }
   ],
   "source": [
    "u_ex = lambda x : (x**4)/12. - (x**3)/6. + x/12.\n",
    "omega = [0,1]\n",
    "f = lambda x : x*(1.-x)\n",
    "bc = [0,0]\n",
    "\n",
    "A, b = finDif(omega, f, 33, bc)\n",
    "HT, H = cholesky(A)\n",
    "y = L_solve(HT,b)\n",
    "u = U_solve(H,y)\n",
    "x = linspace(omega[0],omega[-1],33)\n",
    "error = max(abs(u_ex(x)-u))\n",
    "print(error)\n",
    "\n",
    "\n",
    "#x = linspace(omega[0],omega[-1],n)\n",
    "_ = plot(x,u,'ro', label='Cholesky')\n",
    "_ = plot(x,u_ex(x), 'b', label='exact')\n",
    "_ = legend()\n",
    "\n",
    "print(A)\n",
    "print(b)\n"
   ]
  },
  {
   "cell_type": "markdown",
   "id": "ead885e5",
   "metadata": {},
   "source": [
    "Then with $ n \\in (3, 300)$:"
   ]
  },
  {
   "cell_type": "code",
   "execution_count": 10,
   "id": "91212afb",
   "metadata": {
    "id": "91212afb"
   },
   "outputs": [
    {
     "name": "stderr",
     "output_type": "stream",
     "text": [
      "<ipython-input-5-adb1c11b8647>:5: RuntimeWarning: invalid value encountered in sqrt\n",
      "  A[k,k] = sqrt(A[k,k])\n"
     ]
    },
    {
     "data": {
      "image/png": "[encoded data removed]",
      "text/plain": [
       "<Figure size 432x288 with 1 Axes>"
      ]
     },
     "metadata": {
      "needs_background": "light"
     },
     "output_type": "display_data"
    }
   ],
   "source": [
    "u_ex = lambda x : (x**4)/12. - (x**3)/6. + x/12.\n",
    "omega = [0,1]\n",
    "f = lambda x : x*(1.-x)\n",
    "bc = [0,0]\n",
    "\n",
    "N = range(3, 301)\n",
    "errors = zeros(len(N))\n",
    "\n",
    "for n in N:\n",
    "    A, b = finDif(omega, f, n, bc)\n",
    "    HT, H = cholesky(A)\n",
    "    y = L_solve(HT,b)\n",
    "    u = U_solve(H,y)\n",
    "    x = linspace(omega[0],omega[-1],n)\n",
    "    errors[n-3] = max(abs(u_ex(x)-u))\n",
    "\n",
    "#x = linspace(N[0],N[-1],len(N))\n",
    "_ = semilogy(N,errors,'r', label='Cholesky')\n",
    "_ = legend()"
   ]
  },
  {
   "cell_type": "markdown",
   "id": "c8d5002f",
   "metadata": {
    "id": "c8d5002f"
   },
   "source": [
    "Exploit the derived LU factorizations to compute the condition number of the system's matrix $A$ using the original problem formulation."
   ]
  },
  {
   "cell_type": "code",
   "execution_count": 11,
   "id": "c25fc1fe",
   "metadata": {
    "id": "c25fc1fe"
   },
   "outputs": [],
   "source": [
    "def condNumb(A):\n",
    "    pass #TODO\n",
    "    return condNu"
   ]
  },
  {
   "cell_type": "markdown",
   "id": "2728b49a",
   "metadata": {
    "id": "2728b49a"
   },
   "source": [
    "Implement a preconditioned Conjugant Gradient method to solve the original linear system of equations using an iterative method:"
   ]
  },
  {
   "cell_type": "code",
   "execution_count": 12,
   "id": "62b83aee",
   "metadata": {
    "id": "62b83aee"
   },
   "outputs": [],
   "source": [
    "def conjugate_gradient(A, b, P, nmax=len(A), eps=1e-10):\n",
    "    pass #TODO"
   ]
  },
  {
   "cell_type": "markdown",
   "id": "8a4cfc02",
   "metadata": {
    "id": "8a4cfc02"
   },
   "source": [
    "Consider the following time dependent variation of the PDE starting from the orginal problem formulation:\n",
    "$$\n",
    "u'(t)-u_{xx} = \\alpha(t)f(x)\n",
    "$$\n",
    "\n",
    "for $t\\in [0,T]$, with $\\alpha(t) = \\cos(t)$ and $T = 6\\pi$\n",
    "\n",
    "Use the same finite difference scheme to derive the semi-discrete formulation and solve it using a forward Euler's method.\n",
    "\n",
    "Plot the time dependent solution solution at $x = \\pi/2$, $x=1$, \n",
    "$x=\\pi$\n"
   ]
  },
  {
   "cell_type": "code",
   "execution_count": 13,
   "id": "3ffe0689",
   "metadata": {
    "id": "3ffe0689"
   },
   "outputs": [],
   "source": [
    "#TODO"
   ]
  },
  {
   "cell_type": "markdown",
   "id": "36936121",
   "metadata": {
    "id": "36936121"
   },
   "source": [
    "Given the original $Au = b$ system, implement an algorithm to compute the eigenvalues and eigenvectors of the matrix $A$. Exploit the computed LU factorization"
   ]
  },
  {
   "cell_type": "code",
   "execution_count": 14,
   "id": "622aadf4",
   "metadata": {
    "id": "622aadf4"
   },
   "outputs": [],
   "source": [
    "#TODO"
   ]
  },
  {
   "cell_type": "markdown",
   "id": "85d5f64e",
   "metadata": {
    "id": "85d5f64e"
   },
   "source": [
    "Compute the inverse of the matrix A exploiting the derived LU factorization"
   ]
  },
  {
   "cell_type": "code",
   "execution_count": 15,
   "id": "6ad7199f",
   "metadata": {
    "id": "6ad7199f"
   },
   "outputs": [],
   "source": [
    "#TODO"
   ]
  },
  {
   "cell_type": "markdown",
   "id": "cb22566e",
   "metadata": {
    "id": "cb22566e"
   },
   "source": [
    "Consider the following Cauchy problem\n",
    "$$\n",
    "\\begin{cases}\n",
    "y'= -ty^2 \\quad 0\\le t \\le 2\\\\\n",
    "y(0) = 1\n",
    "\\end{cases}\n",
    "$$\n",
    "Implement a Backward Euler's method in a suitable function and solve the resulting non-linear equation using a Newton's method."
   ]
  },
  {
   "cell_type": "code",
   "execution_count": 16,
   "id": "3184e358",
   "metadata": {
    "id": "3184e358"
   },
   "outputs": [],
   "source": [
    "#TODO"
   ]
  }
 ],
 "metadata": {
  "colab": {
   "name": "FinalProject-2021-2022.ipynb",
   "provenance": []
  },
  "kernelspec": {
   "display_name": "Python 3",
   "language": "python",
   "name": "python3"
  },
  "language_info": {
   "codemirror_mode": {
    "name": "ipython",
    "version": 3
   },
   "file_extension": ".py",
   "mimetype": "text/x-python",
   "name": "python",
   "nbconvert_exporter": "python",
   "pygments_lexer": "ipython3",
   "version": "3.8.8"
  }
 },
 "nbformat": 4,
 "nbformat_minor": 5
}
